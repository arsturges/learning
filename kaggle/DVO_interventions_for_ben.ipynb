{
 "cells": [
  {
   "cell_type": "markdown",
   "metadata": {},
   "source": [
    "# To run this:\n",
    "```\n",
    "$ virtualenv env\n",
    "$ source env/bin/activate\n",
    "$ pip install jupyter notebook pandas numpy matplotlib\n",
    "$ jupyter notebook\n",
    "```\n",
    "Then navigate in browswer to localhost:8888 and open this file."
   ]
  },
  {
   "cell_type": "code",
   "execution_count": 69,
   "metadata": {
    "collapsed": false
   },
   "outputs": [],
   "source": [
    "import pandas as pd\n",
    "import numpy as np\n",
    "import matplotlib.pyplot as plt\n",
    "%matplotlib inline"
   ]
  },
  {
   "cell_type": "code",
   "execution_count": 70,
   "metadata": {
    "collapsed": false
   },
   "outputs": [
    {
     "data": {
      "text/html": [
       "<div>\n",
       "<table border=\"1\" class=\"dataframe\">\n",
       "  <thead>\n",
       "    <tr style=\"text-align: right;\">\n",
       "      <th></th>\n",
       "      <th>Unnamed: 0</th>\n",
       "      <th>Log</th>\n",
       "      <th>Unnamed: 2</th>\n",
       "      <th>Unnamed: 3</th>\n",
       "      <th>Unnamed: 4</th>\n",
       "      <th>GPS Time</th>\n",
       "      <th>Takeover</th>\n",
       "      <th>Velocity</th>\n",
       "      <th>Init Steer Angle</th>\n",
       "      <th>Lat</th>\n",
       "      <th>...</th>\n",
       "      <th>Average Decel</th>\n",
       "      <th>Unnamed: 17</th>\n",
       "      <th>Unnamed: 18</th>\n",
       "      <th>Unnamed: 19</th>\n",
       "      <th>Unnamed: 20</th>\n",
       "      <th>Unnamed: 21</th>\n",
       "      <th>Unnamed: 22</th>\n",
       "      <th>Unnamed: 23</th>\n",
       "      <th>Unnamed: 24</th>\n",
       "      <th>mph</th>\n",
       "    </tr>\n",
       "  </thead>\n",
       "  <tbody>\n",
       "    <tr>\n",
       "      <th>0</th>\n",
       "      <td>log_info</td>\n",
       "      <td>/mnt/logs/BLUE/av/2016.08/2016.08.31/BORON01/1...</td>\n",
       "      <td>config</td>\n",
       "      <td>3</td>\n",
       "      <td>metrics</td>\n",
       "      <td>1156688811</td>\n",
       "      <td>DBW: Accelerator driver input detected.</td>\n",
       "      <td>4.357879</td>\n",
       "      <td>-27.559999</td>\n",
       "      <td>-79.987</td>\n",
       "      <td>...</td>\n",
       "      <td>0.049</td>\n",
       "      <td>3</td>\n",
       "      <td>NaN</td>\n",
       "      <td>[1] 3 1 4 1 2 4 1 1 3 1 4 4 4 4 1 1 2 3 3 3 1 ...</td>\n",
       "      <td>NaN</td>\n",
       "      <td>NaN</td>\n",
       "      <td>NaN</td>\n",
       "      <td>NaN</td>\n",
       "      <td>NaN</td>\n",
       "      <td>9.748313</td>\n",
       "    </tr>\n",
       "    <tr>\n",
       "      <th>1</th>\n",
       "      <td>log_info</td>\n",
       "      <td>/mnt/logs/BLUE/av/2016.08/2016.08.31/BORON01/1...</td>\n",
       "      <td>config</td>\n",
       "      <td>3</td>\n",
       "      <td>metrics</td>\n",
       "      <td>1156689004</td>\n",
       "      <td>DBW: Brake driver input detected via the pedal...</td>\n",
       "      <td>1.886614</td>\n",
       "      <td>-166.539993</td>\n",
       "      <td>-79.994</td>\n",
       "      <td>...</td>\n",
       "      <td>0.138</td>\n",
       "      <td>1</td>\n",
       "      <td>NaN</td>\n",
       "      <td>[76] 3 3 1 3 3 2 1 3 3 3 3 3 1 1 3 3 1 3 1 2 3...</td>\n",
       "      <td>NaN</td>\n",
       "      <td>NaN</td>\n",
       "      <td>NaN</td>\n",
       "      <td>NaN</td>\n",
       "      <td>NaN</td>\n",
       "      <td>4.220242</td>\n",
       "    </tr>\n",
       "    <tr>\n",
       "      <th>2</th>\n",
       "      <td>log_info</td>\n",
       "      <td>/mnt/logs/BLUE/av/2016.08/2016.08.31/BORON01/1...</td>\n",
       "      <td>config</td>\n",
       "      <td>3</td>\n",
       "      <td>metrics</td>\n",
       "      <td>1156701813</td>\n",
       "      <td>DBW: Accelerator driver input detected.</td>\n",
       "      <td>2.222736</td>\n",
       "      <td>163.559998</td>\n",
       "      <td>-79.976</td>\n",
       "      <td>...</td>\n",
       "      <td>0.000</td>\n",
       "      <td>4</td>\n",
       "      <td>NaN</td>\n",
       "      <td>[151] 2 3 3 3 4 1 3 1 1 3 3 4 3 3 3 1 1 2 1 4 ...</td>\n",
       "      <td>NaN</td>\n",
       "      <td>NaN</td>\n",
       "      <td>NaN</td>\n",
       "      <td>NaN</td>\n",
       "      <td>NaN</td>\n",
       "      <td>4.972127</td>\n",
       "    </tr>\n",
       "    <tr>\n",
       "      <th>3</th>\n",
       "      <td>log_info</td>\n",
       "      <td>/mnt/logs/BLUE/av/2016.08/2016.08.31/BORON01/1...</td>\n",
       "      <td>config</td>\n",
       "      <td>3</td>\n",
       "      <td>metrics</td>\n",
       "      <td>1156701926</td>\n",
       "      <td>DBW: Accelerator driver input detected.</td>\n",
       "      <td>4.695340</td>\n",
       "      <td>-10.160000</td>\n",
       "      <td>-79.978</td>\n",
       "      <td>...</td>\n",
       "      <td>0.027</td>\n",
       "      <td>1</td>\n",
       "      <td>NaN</td>\n",
       "      <td>[226] 4 3 3 2 3 1 1 3 2 1 2 3 3 1 2 2 1 3 3 3 ...</td>\n",
       "      <td>NaN</td>\n",
       "      <td>NaN</td>\n",
       "      <td>NaN</td>\n",
       "      <td>NaN</td>\n",
       "      <td>NaN</td>\n",
       "      <td>10.503193</td>\n",
       "    </tr>\n",
       "    <tr>\n",
       "      <th>4</th>\n",
       "      <td>log_info</td>\n",
       "      <td>/mnt/logs/BLUE/av/2016.08/2016.08.31/BORON01/1...</td>\n",
       "      <td>config</td>\n",
       "      <td>3</td>\n",
       "      <td>metrics</td>\n",
       "      <td>1156702107</td>\n",
       "      <td>DBW: Accelerator driver input detected.</td>\n",
       "      <td>11.413283</td>\n",
       "      <td>8.580000</td>\n",
       "      <td>-79.959</td>\n",
       "      <td>...</td>\n",
       "      <td>0.307</td>\n",
       "      <td>2</td>\n",
       "      <td>NaN</td>\n",
       "      <td>[301] 1 3 3 3 3 1 1 3 3 1 4 3 1 3 4 1 2 3 4 3 ...</td>\n",
       "      <td>NaN</td>\n",
       "      <td>NaN</td>\n",
       "      <td>NaN</td>\n",
       "      <td>NaN</td>\n",
       "      <td>NaN</td>\n",
       "      <td>25.530829</td>\n",
       "    </tr>\n",
       "  </tbody>\n",
       "</table>\n",
       "<p>5 rows × 26 columns</p>\n",
       "</div>"
      ],
      "text/plain": [
       "  Unnamed: 0                                                Log Unnamed: 2  \\\n",
       "0   log_info  /mnt/logs/BLUE/av/2016.08/2016.08.31/BORON01/1...     config   \n",
       "1   log_info  /mnt/logs/BLUE/av/2016.08/2016.08.31/BORON01/1...     config   \n",
       "2   log_info  /mnt/logs/BLUE/av/2016.08/2016.08.31/BORON01/1...     config   \n",
       "3   log_info  /mnt/logs/BLUE/av/2016.08/2016.08.31/BORON01/1...     config   \n",
       "4   log_info  /mnt/logs/BLUE/av/2016.08/2016.08.31/BORON01/1...     config   \n",
       "\n",
       "   Unnamed: 3 Unnamed: 4    GPS Time  \\\n",
       "0           3    metrics  1156688811   \n",
       "1           3    metrics  1156689004   \n",
       "2           3    metrics  1156701813   \n",
       "3           3    metrics  1156701926   \n",
       "4           3    metrics  1156702107   \n",
       "\n",
       "                                            Takeover   Velocity  \\\n",
       "0            DBW: Accelerator driver input detected.   4.357879   \n",
       "1  DBW: Brake driver input detected via the pedal...   1.886614   \n",
       "2            DBW: Accelerator driver input detected.   2.222736   \n",
       "3            DBW: Accelerator driver input detected.   4.695340   \n",
       "4            DBW: Accelerator driver input detected.  11.413283   \n",
       "\n",
       "   Init Steer Angle     Lat    ...      Average Decel  Unnamed: 17  \\\n",
       "0        -27.559999 -79.987    ...              0.049            3   \n",
       "1       -166.539993 -79.994    ...              0.138            1   \n",
       "2        163.559998 -79.976    ...              0.000            4   \n",
       "3        -10.160000 -79.978    ...              0.027            1   \n",
       "4          8.580000 -79.959    ...              0.307            2   \n",
       "\n",
       "   Unnamed: 18                                        Unnamed: 19  \\\n",
       "0          NaN  [1] 3 1 4 1 2 4 1 1 3 1 4 4 4 4 1 1 2 3 3 3 1 ...   \n",
       "1          NaN  [76] 3 3 1 3 3 2 1 3 3 3 3 3 1 1 3 3 1 3 1 2 3...   \n",
       "2          NaN  [151] 2 3 3 3 4 1 3 1 1 3 3 4 3 3 3 1 1 2 1 4 ...   \n",
       "3          NaN  [226] 4 3 3 2 3 1 1 3 2 1 2 3 3 1 2 2 1 3 3 3 ...   \n",
       "4          NaN  [301] 1 3 3 3 3 1 1 3 3 1 4 3 1 3 4 1 2 3 4 3 ...   \n",
       "\n",
       "   Unnamed: 20  Unnamed: 21  Unnamed: 22  Unnamed: 23 Unnamed: 24        mph  \n",
       "0          NaN          NaN          NaN          NaN         NaN   9.748313  \n",
       "1          NaN          NaN          NaN          NaN         NaN   4.220242  \n",
       "2          NaN          NaN          NaN          NaN         NaN   4.972127  \n",
       "3          NaN          NaN          NaN          NaN         NaN  10.503193  \n",
       "4          NaN          NaN          NaN          NaN         NaN  25.530829  \n",
       "\n",
       "[5 rows x 26 columns]"
      ]
     },
     "execution_count": 70,
     "metadata": {},
     "output_type": "execute_result"
    }
   ],
   "source": [
    "df = pd.read_csv(\"/Users/andrewsturges/Downloads/Intervention Severity Metrics - Sheet1.csv\")\n",
    "df['mph'] = df.Velocity * 2.23694\n",
    "df.head()"
   ]
  },
  {
   "cell_type": "code",
   "execution_count": 71,
   "metadata": {
    "collapsed": false
   },
   "outputs": [
    {
     "data": {
      "text/plain": [
       "DBW: Accelerator driver input detected.                                                   842\n",
       "DBW: Autosig was lost, hardware opened the chain (mushroom button may be pushed down).    460\n",
       "DBW: Brake driver input detected via the pedal position.                                  149\n",
       "DBW: Steering driver input detected from the Elmo.                                        136\n",
       "DBW: The steering wheel velocity was too high when in computer control.                    24\n",
       "DBW: Steering driver input detected from the steering module.                               1\n",
       "Name: Takeover, dtype: int64"
      ]
     },
     "execution_count": 71,
     "metadata": {},
     "output_type": "execute_result"
    }
   ],
   "source": [
    "df.Takeover.value_counts()"
   ]
  },
  {
   "cell_type": "code",
   "execution_count": 72,
   "metadata": {
    "collapsed": false
   },
   "outputs": [
    {
     "data": {
      "text/plain": [
       "<matplotlib.axes._subplots.AxesSubplot at 0x111265a50>"
      ]
     },
     "execution_count": 72,
     "metadata": {},
     "output_type": "execute_result"
    },
    {
     "data": {
      "image/png": "[encoded data removed]",
      "text/plain": [
       "<matplotlib.figure.Figure at 0x11143d210>"
      ]
     },
     "metadata": {},
     "output_type": "display_data"
    }
   ],
   "source": [
    "df.Takeover.value_counts().plot(kind='bar')"
   ]
  },
  {
   "cell_type": "code",
   "execution_count": 73,
   "metadata": {
    "collapsed": false
   },
   "outputs": [],
   "source": [
    "fields = ['GPS Time', 'Takeover', 'Velocity', 'Init Steer Angle', 'Lat', 'Long', 'Peak Steering', 'Average Steering',\n",
    "          'Peak Accel', 'Average Accel', 'Average Decel', 'Peak Decel']"
   ]
  },
  {
   "cell_type": "code",
   "execution_count": 74,
   "metadata": {
    "collapsed": false
   },
   "outputs": [
    {
     "data": {
      "text/html": [
       "<div>\n",
       "<table border=\"1\" class=\"dataframe\">\n",
       "  <thead>\n",
       "    <tr style=\"text-align: right;\">\n",
       "      <th></th>\n",
       "      <th>GPS Time</th>\n",
       "      <th>Takeover</th>\n",
       "      <th>Velocity</th>\n",
       "      <th>Init Steer Angle</th>\n",
       "      <th>Lat</th>\n",
       "      <th>Long</th>\n",
       "      <th>Peak Steering</th>\n",
       "      <th>Average Steering</th>\n",
       "      <th>Peak Accel</th>\n",
       "      <th>Average Accel</th>\n",
       "      <th>Average Decel</th>\n",
       "      <th>Peak Decel</th>\n",
       "    </tr>\n",
       "  </thead>\n",
       "  <tbody>\n",
       "    <tr>\n",
       "      <th>0</th>\n",
       "      <td>1156688811</td>\n",
       "      <td>DBW: Accelerator driver input detected.</td>\n",
       "      <td>4.357879</td>\n",
       "      <td>-27.559999</td>\n",
       "      <td>-79.987</td>\n",
       "      <td>40.449</td>\n",
       "      <td>67.473</td>\n",
       "      <td>15.333</td>\n",
       "      <td>0.262</td>\n",
       "      <td>0.065</td>\n",
       "      <td>0.049</td>\n",
       "      <td>0.519</td>\n",
       "    </tr>\n",
       "    <tr>\n",
       "      <th>1</th>\n",
       "      <td>1156689004</td>\n",
       "      <td>DBW: Brake driver input detected via the pedal...</td>\n",
       "      <td>1.886614</td>\n",
       "      <td>-166.539993</td>\n",
       "      <td>-79.994</td>\n",
       "      <td>40.445</td>\n",
       "      <td>215.334</td>\n",
       "      <td>66.207</td>\n",
       "      <td>1.315</td>\n",
       "      <td>0.251</td>\n",
       "      <td>0.138</td>\n",
       "      <td>0.958</td>\n",
       "    </tr>\n",
       "    <tr>\n",
       "      <th>2</th>\n",
       "      <td>1156701813</td>\n",
       "      <td>DBW: Accelerator driver input detected.</td>\n",
       "      <td>2.222736</td>\n",
       "      <td>163.559998</td>\n",
       "      <td>-79.976</td>\n",
       "      <td>40.458</td>\n",
       "      <td>93.312</td>\n",
       "      <td>41.773</td>\n",
       "      <td>2.721</td>\n",
       "      <td>1.118</td>\n",
       "      <td>0.000</td>\n",
       "      <td>0.000</td>\n",
       "    </tr>\n",
       "    <tr>\n",
       "      <th>3</th>\n",
       "      <td>1156701926</td>\n",
       "      <td>DBW: Accelerator driver input detected.</td>\n",
       "      <td>4.695340</td>\n",
       "      <td>-10.160000</td>\n",
       "      <td>-79.978</td>\n",
       "      <td>40.454</td>\n",
       "      <td>164.271</td>\n",
       "      <td>53.653</td>\n",
       "      <td>1.479</td>\n",
       "      <td>0.444</td>\n",
       "      <td>0.027</td>\n",
       "      <td>0.462</td>\n",
       "    </tr>\n",
       "    <tr>\n",
       "      <th>4</th>\n",
       "      <td>1156702107</td>\n",
       "      <td>DBW: Accelerator driver input detected.</td>\n",
       "      <td>11.413283</td>\n",
       "      <td>8.580000</td>\n",
       "      <td>-79.959</td>\n",
       "      <td>40.463</td>\n",
       "      <td>29.942</td>\n",
       "      <td>6.687</td>\n",
       "      <td>1.745</td>\n",
       "      <td>0.177</td>\n",
       "      <td>0.307</td>\n",
       "      <td>2.375</td>\n",
       "    </tr>\n",
       "  </tbody>\n",
       "</table>\n",
       "</div>"
      ],
      "text/plain": [
       "     GPS Time                                           Takeover   Velocity  \\\n",
       "0  1156688811            DBW: Accelerator driver input detected.   4.357879   \n",
       "1  1156689004  DBW: Brake driver input detected via the pedal...   1.886614   \n",
       "2  1156701813            DBW: Accelerator driver input detected.   2.222736   \n",
       "3  1156701926            DBW: Accelerator driver input detected.   4.695340   \n",
       "4  1156702107            DBW: Accelerator driver input detected.  11.413283   \n",
       "\n",
       "   Init Steer Angle     Lat    Long  Peak Steering  Average Steering  \\\n",
       "0        -27.559999 -79.987  40.449         67.473            15.333   \n",
       "1       -166.539993 -79.994  40.445        215.334            66.207   \n",
       "2        163.559998 -79.976  40.458         93.312            41.773   \n",
       "3        -10.160000 -79.978  40.454        164.271            53.653   \n",
       "4          8.580000 -79.959  40.463         29.942             6.687   \n",
       "\n",
       "   Peak Accel  Average Accel  Average Decel  Peak Decel  \n",
       "0       0.262          0.065          0.049       0.519  \n",
       "1       1.315          0.251          0.138       0.958  \n",
       "2       2.721          1.118          0.000       0.000  \n",
       "3       1.479          0.444          0.027       0.462  \n",
       "4       1.745          0.177          0.307       2.375  "
      ]
     },
     "execution_count": 74,
     "metadata": {},
     "output_type": "execute_result"
    }
   ],
   "source": [
    "df[fields].head()"
   ]
  },
  {
   "cell_type": "markdown",
   "metadata": {},
   "source": [
    "# Speed\n",
    "Most takeover events happen at low speeds."
   ]
  },
  {
   "cell_type": "code",
   "execution_count": 75,
   "metadata": {
    "collapsed": false
   },
   "outputs": [
    {
     "data": {
      "text/plain": [
       "<matplotlib.axes._subplots.AxesSubplot at 0x111633a50>"
      ]
     },
     "execution_count": 75,
     "metadata": {},
     "output_type": "execute_result"
    },
    {
     "data": {
      "image/png": "[encoded data removed]",
      "text/plain": [
       "<matplotlib.figure.Figure at 0x1119e3c90>"
      ]
     },
     "metadata": {},
     "output_type": "display_data"
    }
   ],
   "source": [
    "df.mph.hist(bins=25)"
   ]
  },
  {
   "cell_type": "markdown",
   "metadata": {},
   "source": [
    "# Steering\n",
    "Most takeover events happen while driving straight.\n",
    "\n",
    "Define a \"sudden steering event\" as any time peak steering exceeds the mean of peak steering."
   ]
  },
  {
   "cell_type": "code",
   "execution_count": 76,
   "metadata": {
    "collapsed": false
   },
   "outputs": [
    {
     "data": {
      "text/plain": [
       "<matplotlib.axes._subplots.AxesSubplot at 0x111b6e2d0>"
      ]
     },
     "execution_count": 76,
     "metadata": {},
     "output_type": "execute_result"
    },
    {
     "data": {
      "image/png": "[encoded data removed]",
      "text/plain": [
       "<matplotlib.figure.Figure at 0x11195d7d0>"
      ]
     },
     "metadata": {},
     "output_type": "display_data"
    }
   ],
   "source": [
    "df['Init Steer Angle'].hist(bins=50)"
   ]
  },
  {
   "cell_type": "code",
   "execution_count": 77,
   "metadata": {
    "collapsed": false
   },
   "outputs": [
    {
     "data": {
      "text/plain": [
       "count    1612.000000\n",
       "mean       81.880024\n",
       "std       107.087019\n",
       "min         0.000000\n",
       "25%        15.791000\n",
       "50%        38.760500\n",
       "75%       101.931750\n",
       "max       726.251000\n",
       "Name: Peak Steering, dtype: float64"
      ]
     },
     "execution_count": 77,
     "metadata": {},
     "output_type": "execute_result"
    }
   ],
   "source": [
    "df['Peak Steering'].describe()"
   ]
  },
  {
   "cell_type": "code",
   "execution_count": 78,
   "metadata": {
    "collapsed": false
   },
   "outputs": [
    {
     "data": {
      "text/plain": [
       "38.76049999999999"
      ]
     },
     "execution_count": 78,
     "metadata": {},
     "output_type": "execute_result"
    }
   ],
   "source": [
    "df['Peak Steering'].median()"
   ]
  },
  {
   "cell_type": "code",
   "execution_count": 79,
   "metadata": {
    "collapsed": false
   },
   "outputs": [
    {
     "data": {
      "text/plain": [
       "<matplotlib.axes._subplots.AxesSubplot at 0x111e193d0>"
      ]
     },
     "execution_count": 79,
     "metadata": {},
     "output_type": "execute_result"
    },
    {
     "data": {
      "image/png": "[encoded data removed]",
      "text/plain": [
       "<matplotlib.figure.Figure at 0x111bd9250>"
      ]
     },
     "metadata": {},
     "output_type": "display_data"
    }
   ],
   "source": [
    "df['Peak Steering'].hist(bins=25, log=False)"
   ]
  },
  {
   "cell_type": "code",
   "execution_count": 80,
   "metadata": {
    "collapsed": false
   },
   "outputs": [],
   "source": [
    "df['sudden_steering_event'] = df['Peak Steering'] > df['Peak Steering'].mean()"
   ]
  },
  {
   "cell_type": "markdown",
   "metadata": {},
   "source": [
    "# Acceleration\n",
    "Accerlation ranges from zero, mostly, to 3.5 meters/second/second.\n",
    "Define sudden_accel_event as any time Peak Accel > median."
   ]
  },
  {
   "cell_type": "code",
   "execution_count": 81,
   "metadata": {
    "collapsed": false
   },
   "outputs": [
    {
     "data": {
      "text/plain": [
       "<matplotlib.lines.Line2D at 0x1123a6fd0>"
      ]
     },
     "execution_count": 81,
     "metadata": {},
     "output_type": "execute_result"
    },
    {
     "data": {
      "image/png": "[encoded data removed]",
      "text/plain": [
       "<matplotlib.figure.Figure at 0x111ecbf50>"
      ]
     },
     "metadata": {},
     "output_type": "display_data"
    }
   ],
   "source": [
    "fig, ax = plt.subplots(1, 1, figsize=(15, 3))\n",
    "df['Peak Accel'].hist(bins=25, ax=ax)\n",
    "ax.axvline(np.percentile(df['Peak Accel'], 25), color='red', lw=3)\n",
    "ax.axvline(np.percentile(df['Peak Accel'], 50), color='red', lw=3)\n",
    "ax.axvline(np.percentile(df['Peak Accel'], 75), color='red', lw=3)\n",
    "ax.axvline(np.mean(df['Peak Accel']), color='green', lw=3)"
   ]
  },
  {
   "cell_type": "code",
   "execution_count": 82,
   "metadata": {
    "collapsed": false
   },
   "outputs": [],
   "source": [
    "df['sudden_accel_event'] = df['Peak Accel'] > np.percentile(df['Peak Accel'], 50)"
   ]
  },
  {
   "cell_type": "markdown",
   "metadata": {},
   "source": [
    "# Braking\n",
    "\n",
    "Define sudden_braking_event as any peak decel > mean"
   ]
  },
  {
   "cell_type": "code",
   "execution_count": 83,
   "metadata": {
    "collapsed": false
   },
   "outputs": [
    {
     "data": {
      "text/plain": [
       "<matplotlib.lines.Line2D at 0x1125afed0>"
      ]
     },
     "execution_count": 83,
     "metadata": {},
     "output_type": "execute_result"
    },
    {
     "data": {
      "image/png": "[encoded data removed]",
      "text/plain": [
       "<matplotlib.figure.Figure at 0x111bd9910>"
      ]
     },
     "metadata": {},
     "output_type": "display_data"
    }
   ],
   "source": [
    "fig, ax = plt.subplots(1, 1, figsize=(15, 3))\n",
    "df['Peak Decel'].hist(bins=25, ax=ax)\n",
    "ax.axvline(np.percentile(df['Peak Decel'], 25), color='red', lw=3)\n",
    "ax.axvline(np.percentile(df['Peak Decel'], 50), color='red', lw=3)\n",
    "ax.axvline(np.percentile(df['Peak Decel'], 75), color='red', lw=3)\n",
    "ax.axvline(np.mean(df['Peak Decel']), color='green', lw=3)"
   ]
  },
  {
   "cell_type": "code",
   "execution_count": 84,
   "metadata": {
    "collapsed": false
   },
   "outputs": [],
   "source": [
    "df['sudden_braking_event'] = df['Peak Decel'] > df['Peak Decel'].mean()"
   ]
  },
  {
   "cell_type": "code",
   "execution_count": 85,
   "metadata": {
    "collapsed": false
   },
   "outputs": [
    {
     "data": {
      "text/html": [
       "<div>\n",
       "<table border=\"1\" class=\"dataframe\">\n",
       "  <thead>\n",
       "    <tr style=\"text-align: right;\">\n",
       "      <th></th>\n",
       "      <th>Unnamed: 0</th>\n",
       "      <th>Log</th>\n",
       "      <th>Unnamed: 2</th>\n",
       "      <th>Unnamed: 3</th>\n",
       "      <th>Unnamed: 4</th>\n",
       "      <th>GPS Time</th>\n",
       "      <th>Takeover</th>\n",
       "      <th>Velocity</th>\n",
       "      <th>Init Steer Angle</th>\n",
       "      <th>Lat</th>\n",
       "      <th>...</th>\n",
       "      <th>Unnamed: 19</th>\n",
       "      <th>Unnamed: 20</th>\n",
       "      <th>Unnamed: 21</th>\n",
       "      <th>Unnamed: 22</th>\n",
       "      <th>Unnamed: 23</th>\n",
       "      <th>Unnamed: 24</th>\n",
       "      <th>mph</th>\n",
       "      <th>sudden_steering_event</th>\n",
       "      <th>sudden_accel_event</th>\n",
       "      <th>sudden_braking_event</th>\n",
       "    </tr>\n",
       "  </thead>\n",
       "  <tbody>\n",
       "    <tr>\n",
       "      <th>0</th>\n",
       "      <td>log_info</td>\n",
       "      <td>/mnt/logs/BLUE/av/2016.08/2016.08.31/BORON01/1...</td>\n",
       "      <td>config</td>\n",
       "      <td>3</td>\n",
       "      <td>metrics</td>\n",
       "      <td>1156688811</td>\n",
       "      <td>DBW: Accelerator driver input detected.</td>\n",
       "      <td>4.357879</td>\n",
       "      <td>-27.559999</td>\n",
       "      <td>-79.987</td>\n",
       "      <td>...</td>\n",
       "      <td>[1] 3 1 4 1 2 4 1 1 3 1 4 4 4 4 1 1 2 3 3 3 1 ...</td>\n",
       "      <td>NaN</td>\n",
       "      <td>NaN</td>\n",
       "      <td>NaN</td>\n",
       "      <td>NaN</td>\n",
       "      <td>NaN</td>\n",
       "      <td>9.748313</td>\n",
       "      <td>False</td>\n",
       "      <td>False</td>\n",
       "      <td>False</td>\n",
       "    </tr>\n",
       "    <tr>\n",
       "      <th>1</th>\n",
       "      <td>log_info</td>\n",
       "      <td>/mnt/logs/BLUE/av/2016.08/2016.08.31/BORON01/1...</td>\n",
       "      <td>config</td>\n",
       "      <td>3</td>\n",
       "      <td>metrics</td>\n",
       "      <td>1156689004</td>\n",
       "      <td>DBW: Brake driver input detected via the pedal...</td>\n",
       "      <td>1.886614</td>\n",
       "      <td>-166.539993</td>\n",
       "      <td>-79.994</td>\n",
       "      <td>...</td>\n",
       "      <td>[76] 3 3 1 3 3 2 1 3 3 3 3 3 1 1 3 3 1 3 1 2 3...</td>\n",
       "      <td>NaN</td>\n",
       "      <td>NaN</td>\n",
       "      <td>NaN</td>\n",
       "      <td>NaN</td>\n",
       "      <td>NaN</td>\n",
       "      <td>4.220242</td>\n",
       "      <td>True</td>\n",
       "      <td>True</td>\n",
       "      <td>True</td>\n",
       "    </tr>\n",
       "    <tr>\n",
       "      <th>2</th>\n",
       "      <td>log_info</td>\n",
       "      <td>/mnt/logs/BLUE/av/2016.08/2016.08.31/BORON01/1...</td>\n",
       "      <td>config</td>\n",
       "      <td>3</td>\n",
       "      <td>metrics</td>\n",
       "      <td>1156701813</td>\n",
       "      <td>DBW: Accelerator driver input detected.</td>\n",
       "      <td>2.222736</td>\n",
       "      <td>163.559998</td>\n",
       "      <td>-79.976</td>\n",
       "      <td>...</td>\n",
       "      <td>[151] 2 3 3 3 4 1 3 1 1 3 3 4 3 3 3 1 1 2 1 4 ...</td>\n",
       "      <td>NaN</td>\n",
       "      <td>NaN</td>\n",
       "      <td>NaN</td>\n",
       "      <td>NaN</td>\n",
       "      <td>NaN</td>\n",
       "      <td>4.972127</td>\n",
       "      <td>True</td>\n",
       "      <td>True</td>\n",
       "      <td>False</td>\n",
       "    </tr>\n",
       "    <tr>\n",
       "      <th>3</th>\n",
       "      <td>log_info</td>\n",
       "      <td>/mnt/logs/BLUE/av/2016.08/2016.08.31/BORON01/1...</td>\n",
       "      <td>config</td>\n",
       "      <td>3</td>\n",
       "      <td>metrics</td>\n",
       "      <td>1156701926</td>\n",
       "      <td>DBW: Accelerator driver input detected.</td>\n",
       "      <td>4.695340</td>\n",
       "      <td>-10.160000</td>\n",
       "      <td>-79.978</td>\n",
       "      <td>...</td>\n",
       "      <td>[226] 4 3 3 2 3 1 1 3 2 1 2 3 3 1 2 2 1 3 3 3 ...</td>\n",
       "      <td>NaN</td>\n",
       "      <td>NaN</td>\n",
       "      <td>NaN</td>\n",
       "      <td>NaN</td>\n",
       "      <td>NaN</td>\n",
       "      <td>10.503193</td>\n",
       "      <td>True</td>\n",
       "      <td>True</td>\n",
       "      <td>False</td>\n",
       "    </tr>\n",
       "    <tr>\n",
       "      <th>4</th>\n",
       "      <td>log_info</td>\n",
       "      <td>/mnt/logs/BLUE/av/2016.08/2016.08.31/BORON01/1...</td>\n",
       "      <td>config</td>\n",
       "      <td>3</td>\n",
       "      <td>metrics</td>\n",
       "      <td>1156702107</td>\n",
       "      <td>DBW: Accelerator driver input detected.</td>\n",
       "      <td>11.413283</td>\n",
       "      <td>8.580000</td>\n",
       "      <td>-79.959</td>\n",
       "      <td>...</td>\n",
       "      <td>[301] 1 3 3 3 3 1 1 3 3 1 4 3 1 3 4 1 2 3 4 3 ...</td>\n",
       "      <td>NaN</td>\n",
       "      <td>NaN</td>\n",
       "      <td>NaN</td>\n",
       "      <td>NaN</td>\n",
       "      <td>NaN</td>\n",
       "      <td>25.530829</td>\n",
       "      <td>False</td>\n",
       "      <td>True</td>\n",
       "      <td>True</td>\n",
       "    </tr>\n",
       "  </tbody>\n",
       "</table>\n",
       "<p>5 rows × 29 columns</p>\n",
       "</div>"
      ],
      "text/plain": [
       "  Unnamed: 0                                                Log Unnamed: 2  \\\n",
       "0   log_info  /mnt/logs/BLUE/av/2016.08/2016.08.31/BORON01/1...     config   \n",
       "1   log_info  /mnt/logs/BLUE/av/2016.08/2016.08.31/BORON01/1...     config   \n",
       "2   log_info  /mnt/logs/BLUE/av/2016.08/2016.08.31/BORON01/1...     config   \n",
       "3   log_info  /mnt/logs/BLUE/av/2016.08/2016.08.31/BORON01/1...     config   \n",
       "4   log_info  /mnt/logs/BLUE/av/2016.08/2016.08.31/BORON01/1...     config   \n",
       "\n",
       "   Unnamed: 3 Unnamed: 4    GPS Time  \\\n",
       "0           3    metrics  1156688811   \n",
       "1           3    metrics  1156689004   \n",
       "2           3    metrics  1156701813   \n",
       "3           3    metrics  1156701926   \n",
       "4           3    metrics  1156702107   \n",
       "\n",
       "                                            Takeover   Velocity  \\\n",
       "0            DBW: Accelerator driver input detected.   4.357879   \n",
       "1  DBW: Brake driver input detected via the pedal...   1.886614   \n",
       "2            DBW: Accelerator driver input detected.   2.222736   \n",
       "3            DBW: Accelerator driver input detected.   4.695340   \n",
       "4            DBW: Accelerator driver input detected.  11.413283   \n",
       "\n",
       "   Init Steer Angle     Lat         ...           \\\n",
       "0        -27.559999 -79.987         ...            \n",
       "1       -166.539993 -79.994         ...            \n",
       "2        163.559998 -79.976         ...            \n",
       "3        -10.160000 -79.978         ...            \n",
       "4          8.580000 -79.959         ...            \n",
       "\n",
       "                                         Unnamed: 19  Unnamed: 20  \\\n",
       "0  [1] 3 1 4 1 2 4 1 1 3 1 4 4 4 4 1 1 2 3 3 3 1 ...          NaN   \n",
       "1  [76] 3 3 1 3 3 2 1 3 3 3 3 3 1 1 3 3 1 3 1 2 3...          NaN   \n",
       "2  [151] 2 3 3 3 4 1 3 1 1 3 3 4 3 3 3 1 1 2 1 4 ...          NaN   \n",
       "3  [226] 4 3 3 2 3 1 1 3 2 1 2 3 3 1 2 2 1 3 3 3 ...          NaN   \n",
       "4  [301] 1 3 3 3 3 1 1 3 3 1 4 3 1 3 4 1 2 3 4 3 ...          NaN   \n",
       "\n",
       "   Unnamed: 21  Unnamed: 22  Unnamed: 23  Unnamed: 24        mph  \\\n",
       "0          NaN          NaN          NaN          NaN   9.748313   \n",
       "1          NaN          NaN          NaN          NaN   4.220242   \n",
       "2          NaN          NaN          NaN          NaN   4.972127   \n",
       "3          NaN          NaN          NaN          NaN  10.503193   \n",
       "4          NaN          NaN          NaN          NaN  25.530829   \n",
       "\n",
       "   sudden_steering_event sudden_accel_event sudden_braking_event  \n",
       "0                  False              False                False  \n",
       "1                   True               True                 True  \n",
       "2                   True               True                False  \n",
       "3                   True               True                False  \n",
       "4                  False               True                 True  \n",
       "\n",
       "[5 rows x 29 columns]"
      ]
     },
     "execution_count": 85,
     "metadata": {},
     "output_type": "execute_result"
    }
   ],
   "source": [
    "df.head()"
   ]
  },
  {
   "cell_type": "code",
   "execution_count": 94,
   "metadata": {
    "collapsed": false
   },
   "outputs": [],
   "source": [
    "counts = df.groupby(by=['sudden_braking_event', 'sudden_steering_event', 'sudden_accel_event']).count()[['Log']]"
   ]
  },
  {
   "cell_type": "code",
   "execution_count": 104,
   "metadata": {
    "collapsed": false
   },
   "outputs": [
    {
     "data": {
      "text/html": [
       "<div>\n",
       "<table border=\"1\" class=\"dataframe\">\n",
       "  <thead>\n",
       "    <tr style=\"text-align: right;\">\n",
       "      <th></th>\n",
       "      <th></th>\n",
       "      <th></th>\n",
       "      <th>Log</th>\n",
       "    </tr>\n",
       "    <tr>\n",
       "      <th>sudden_braking_event</th>\n",
       "      <th>sudden_steering_event</th>\n",
       "      <th>sudden_accel_event</th>\n",
       "      <th></th>\n",
       "    </tr>\n",
       "  </thead>\n",
       "  <tbody>\n",
       "    <tr>\n",
       "      <th rowspan=\"4\" valign=\"top\">False</th>\n",
       "      <th rowspan=\"2\" valign=\"top\">False</th>\n",
       "      <th>False</th>\n",
       "      <td>0.152605</td>\n",
       "    </tr>\n",
       "    <tr>\n",
       "      <th>True</th>\n",
       "      <td>0.267370</td>\n",
       "    </tr>\n",
       "    <tr>\n",
       "      <th rowspan=\"2\" valign=\"top\">True</th>\n",
       "      <th>False</th>\n",
       "      <td>0.049628</td>\n",
       "    </tr>\n",
       "    <tr>\n",
       "      <th>True</th>\n",
       "      <td>0.178660</td>\n",
       "    </tr>\n",
       "    <tr>\n",
       "      <th rowspan=\"4\" valign=\"top\">True</th>\n",
       "      <th rowspan=\"2\" valign=\"top\">False</th>\n",
       "      <th>False</th>\n",
       "      <td>0.238834</td>\n",
       "    </tr>\n",
       "    <tr>\n",
       "      <th>True</th>\n",
       "      <td>0.039702</td>\n",
       "    </tr>\n",
       "    <tr>\n",
       "      <th rowspan=\"2\" valign=\"top\">True</th>\n",
       "      <th>False</th>\n",
       "      <td>0.058933</td>\n",
       "    </tr>\n",
       "    <tr>\n",
       "      <th>True</th>\n",
       "      <td>0.014268</td>\n",
       "    </tr>\n",
       "  </tbody>\n",
       "</table>\n",
       "</div>"
      ],
      "text/plain": [
       "                                                                    Log\n",
       "sudden_braking_event sudden_steering_event sudden_accel_event          \n",
       "False                False                 False               0.152605\n",
       "                                           True                0.267370\n",
       "                     True                  False               0.049628\n",
       "                                           True                0.178660\n",
       "True                 False                 False               0.238834\n",
       "                                           True                0.039702\n",
       "                     True                  False               0.058933\n",
       "                                           True                0.014268"
      ]
     },
     "execution_count": 104,
     "metadata": {},
     "output_type": "execute_result"
    }
   ],
   "source": [
    "counts/df.shape[0]"
   ]
  },
  {
   "cell_type": "code",
   "execution_count": 103,
   "metadata": {
    "collapsed": false,
    "scrolled": true
   },
   "outputs": [
    {
     "data": {
      "text/plain": [
       "<matplotlib.axes._subplots.AxesSubplot at 0x10f734dd0>"
      ]
     },
     "execution_count": 103,
     "metadata": {},
     "output_type": "execute_result"
    },
    {
     "data": {
      "image/png": "[encoded data removed]",
      "text/plain": [
       "<matplotlib.figure.Figure at 0x10f878e10>"
      ]
     },
     "metadata": {},
     "output_type": "display_data"
    }
   ],
   "source": [
    "(counts/df.shape[0]).plot(kind='bar')"
   ]
  },
  {
   "cell_type": "code",
   "execution_count": null,
   "metadata": {
    "collapsed": true
   },
   "outputs": [],
   "source": []
  }
 ],
 "metadata": {
  "kernelspec": {
   "display_name": "Python 2",
   "language": "python",
   "name": "python2"
  },
  "language_info": {
   "codemirror_mode": {
    "name": "ipython",
    "version": 2
   },
   "file_extension": ".py",
   "mimetype": "text/x-python",
   "name": "python",
   "nbconvert_exporter": "python",
   "pygments_lexer": "ipython2",
   "version": "2.7.11"
  }
 },
 "nbformat": 4,
 "nbformat_minor": 1
}
