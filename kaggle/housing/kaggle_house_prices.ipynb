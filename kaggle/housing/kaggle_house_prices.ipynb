{
 "cells": [
  {
   "cell_type": "code",
   "execution_count": 1,
   "metadata": {},
   "outputs": [],
   "source": [
    "import pandas as pd\n",
    "import numpy as np\n",
    "import tensorflow as tf\n",
    "import os\n",
    "import matplotlib.pyplot as plt\n",
    "%matplotlib inline\n",
    "\n",
    "from sklearn.model_selection import train_test_split, cross_val_score, GridSearchCV\n",
    "from sklearn.pipeline import Pipeline, FeatureUnion\n",
    "from sklearn.preprocessing import StandardScaler, Imputer\n",
    "from sklearn.base import BaseEstimator, TransformerMixin\n",
    "from sklearn.linear_model import LinearRegression\n",
    "from sklearn.metrics import mean_squared_error\n",
    "from sklearn.tree import DecisionTreeRegressor\n",
    "from sklearn.ensemble import RandomForestRegressor\n",
    "from sklearn.decomposition import PCA"
   ]
  },
  {
   "cell_type": "code",
   "execution_count": 2,
   "metadata": {},
   "outputs": [],
   "source": [
    "from sklearn.base import BaseEstimator, TransformerMixin\n",
    "from sklearn.utils import check_array\n",
    "from sklearn.preprocessing import LabelEncoder\n",
    "from scipy import sparse\n",
    "\n",
    "class CategoricalEncoder(BaseEstimator, TransformerMixin):\n",
    "    \"\"\"Encode categorical features as a numeric array.\n",
    "    The input to this transformer should be a matrix of integers or strings,\n",
    "    denoting the values taken on by categorical (discrete) features.\n",
    "    The features can be encoded using a one-hot aka one-of-K scheme\n",
    "    (``encoding='onehot'``, the default) or converted to ordinal integers\n",
    "    (``encoding='ordinal'``).\n",
    "    This encoding is needed for feeding categorical data to many scikit-learn\n",
    "    estimators, notably linear models and SVMs with the standard kernels.\n",
    "    Read more in the :ref:`User Guide <preprocessing_categorical_features>`.\n",
    "    Parameters\n",
    "    ----------\n",
    "    encoding : str, 'onehot', 'onehot-dense' or 'ordinal'\n",
    "        The type of encoding to use (default is 'onehot'):\n",
    "        - 'onehot': encode the features using a one-hot aka one-of-K scheme\n",
    "          (or also called 'dummy' encoding). This creates a binary column for\n",
    "          each category and returns a sparse matrix.\n",
    "        - 'onehot-dense': the same as 'onehot' but returns a dense array\n",
    "          instead of a sparse matrix.\n",
    "        - 'ordinal': encode the features as ordinal integers. This results in\n",
    "          a single column of integers (0 to n_categories - 1) per feature.\n",
    "    categories : 'auto' or a list of lists/arrays of values.\n",
    "        Categories (unique values) per feature:\n",
    "        - 'auto' : Determine categories automatically from the training data.\n",
    "        - list : ``categories[i]`` holds the categories expected in the ith\n",
    "          column. The passed categories are sorted before encoding the data\n",
    "          (used categories can be found in the ``categories_`` attribute).\n",
    "    dtype : number type, default np.float64\n",
    "        Desired dtype of output.\n",
    "    handle_unknown : 'error' (default) or 'ignore'\n",
    "        Whether to raise an error or ignore if a unknown categorical feature is\n",
    "        present during transform (default is to raise). When this is parameter\n",
    "        is set to 'ignore' and an unknown category is encountered during\n",
    "        transform, the resulting one-hot encoded columns for this feature\n",
    "        will be all zeros.\n",
    "        Ignoring unknown categories is not supported for\n",
    "        ``encoding='ordinal'``.\n",
    "    Attributes\n",
    "    ----------\n",
    "    categories_ : list of arrays\n",
    "        The categories of each feature determined during fitting. When\n",
    "        categories were specified manually, this holds the sorted categories\n",
    "        (in order corresponding with output of `transform`).\n",
    "    Examples\n",
    "    --------\n",
    "    Given a dataset with three features and two samples, we let the encoder\n",
    "    find the maximum value per feature and transform the data to a binary\n",
    "    one-hot encoding.\n",
    "    >>> from sklearn.preprocessing import CategoricalEncoder\n",
    "    >>> enc = CategoricalEncoder(handle_unknown='ignore')\n",
    "    >>> enc.fit([[0, 0, 3], [1, 1, 0], [0, 2, 1], [1, 0, 2]])\n",
    "    ... # doctest: +ELLIPSIS\n",
    "    CategoricalEncoder(categories='auto', dtype=<... 'numpy.float64'>,\n",
    "              encoding='onehot', handle_unknown='ignore')\n",
    "    >>> enc.transform([[0, 1, 1], [1, 0, 4]]).toarray()\n",
    "    array([[ 1.,  0.,  0.,  1.,  0.,  0.,  1.,  0.,  0.],\n",
    "           [ 0.,  1.,  1.,  0.,  0.,  0.,  0.,  0.,  0.]])\n",
    "    See also\n",
    "    --------\n",
    "    sklearn.preprocessing.OneHotEncoder : performs a one-hot encoding of\n",
    "      integer ordinal features. The ``OneHotEncoder assumes`` that input\n",
    "      features take on values in the range ``[0, max(feature)]`` instead of\n",
    "      using the unique values.\n",
    "    sklearn.feature_extraction.DictVectorizer : performs a one-hot encoding of\n",
    "      dictionary items (also handles string-valued features).\n",
    "    sklearn.feature_extraction.FeatureHasher : performs an approximate one-hot\n",
    "      encoding of dictionary items or strings.\n",
    "    \"\"\"\n",
    "\n",
    "    def __init__(self, encoding='onehot', categories='auto', dtype=np.float64,\n",
    "                 handle_unknown='error'):\n",
    "        self.encoding = encoding\n",
    "        self.categories = categories\n",
    "        self.dtype = dtype\n",
    "        self.handle_unknown = handle_unknown\n",
    "\n",
    "    def fit(self, X, y=None):\n",
    "        \"\"\"Fit the CategoricalEncoder to X.\n",
    "        Parameters\n",
    "        ----------\n",
    "        X : array-like, shape [n_samples, n_feature]\n",
    "            The data to determine the categories of each feature.\n",
    "        Returns\n",
    "        -------\n",
    "        self\n",
    "        \"\"\"\n",
    "\n",
    "        if self.encoding not in ['onehot', 'onehot-dense', 'ordinal']:\n",
    "            template = (\"encoding should be either 'onehot', 'onehot-dense' \"\n",
    "                        \"or 'ordinal', got %s\")\n",
    "            raise ValueError(template % self.handle_unknown)\n",
    "\n",
    "        if self.handle_unknown not in ['error', 'ignore']:\n",
    "            template = (\"handle_unknown should be either 'error' or \"\n",
    "                        \"'ignore', got %s\")\n",
    "            raise ValueError(template % self.handle_unknown)\n",
    "\n",
    "        if self.encoding == 'ordinal' and self.handle_unknown == 'ignore':\n",
    "            raise ValueError(\"handle_unknown='ignore' is not supported for\"\n",
    "                             \" encoding='ordinal'\")\n",
    "\n",
    "        X = check_array(X, dtype=np.object, accept_sparse='csc', copy=True)\n",
    "        n_samples, n_features = X.shape\n",
    "\n",
    "        self._label_encoders_ = [LabelEncoder() for _ in range(n_features)]\n",
    "\n",
    "        for i in range(n_features):\n",
    "            le = self._label_encoders_[i]\n",
    "            Xi = X[:, i]\n",
    "            if self.categories == 'auto':\n",
    "                le.fit(Xi)\n",
    "            else:\n",
    "                valid_mask = np.in1d(Xi, self.categories[i])\n",
    "                if not np.all(valid_mask):\n",
    "                    if self.handle_unknown == 'error':\n",
    "                        diff = np.unique(Xi[~valid_mask])\n",
    "                        msg = (\"Found unknown categories {0} in column {1}\"\n",
    "                               \" during fit\".format(diff, i))\n",
    "                        raise ValueError(msg)\n",
    "                le.classes_ = np.array(np.sort(self.categories[i]))\n",
    "\n",
    "        self.categories_ = [le.classes_ for le in self._label_encoders_]\n",
    "\n",
    "        return self\n",
    "\n",
    "    def transform(self, X):\n",
    "        \"\"\"Transform X using one-hot encoding.\n",
    "        Parameters\n",
    "        ----------\n",
    "        X : array-like, shape [n_samples, n_features]\n",
    "            The data to encode.\n",
    "        Returns\n",
    "        -------\n",
    "        X_out : sparse matrix or a 2-d array\n",
    "            Transformed input.\n",
    "        \"\"\"\n",
    "        X = check_array(X, accept_sparse='csc', dtype=np.object, copy=True)\n",
    "        n_samples, n_features = X.shape\n",
    "        X_int = np.zeros_like(X, dtype=np.int)\n",
    "        X_mask = np.ones_like(X, dtype=np.bool)\n",
    "\n",
    "        for i in range(n_features):\n",
    "            valid_mask = np.in1d(X[:, i], self.categories_[i])\n",
    "\n",
    "            if not np.all(valid_mask):\n",
    "                if self.handle_unknown == 'error':\n",
    "                    diff = np.unique(X[~valid_mask, i])\n",
    "                    msg = (\"Found unknown categories {0} in column {1}\"\n",
    "                           \" during transform\".format(diff, i))\n",
    "                    raise ValueError(msg)\n",
    "                else:\n",
    "                    # Set the problematic rows to an acceptable value and\n",
    "                    # continue `The rows are marked `X_mask` and will be\n",
    "                    # removed later.\n",
    "                    X_mask[:, i] = valid_mask\n",
    "                    X[:, i][~valid_mask] = self.categories_[i][0]\n",
    "            X_int[:, i] = self._label_encoders_[i].transform(X[:, i])\n",
    "\n",
    "        if self.encoding == 'ordinal':\n",
    "            return X_int.astype(self.dtype, copy=False)\n",
    "\n",
    "        mask = X_mask.ravel()\n",
    "        n_values = [cats.shape[0] for cats in self.categories_]\n",
    "        n_values = np.array([0] + n_values)\n",
    "        indices = np.cumsum(n_values)\n",
    "\n",
    "        column_indices = (X_int + indices[:-1]).ravel()[mask]\n",
    "        row_indices = np.repeat(np.arange(n_samples, dtype=np.int32),\n",
    "                                n_features)[mask]\n",
    "        data = np.ones(n_samples * n_features)[mask]\n",
    "\n",
    "        out = sparse.csc_matrix((data, (row_indices, column_indices)),\n",
    "                                shape=(n_samples, indices[-1]),\n",
    "                                dtype=self.dtype).tocsr()\n",
    "        if self.encoding == 'onehot-dense':\n",
    "            return out.toarray()\n",
    "        else:\n",
    "            return out"
   ]
  },
  {
   "cell_type": "code",
   "execution_count": 3,
   "metadata": {},
   "outputs": [],
   "source": [
    "#ls ../../.kaggle/competitions/house-prices-advanced-regression-techniques/"
   ]
  },
  {
   "cell_type": "code",
   "execution_count": 4,
   "metadata": {},
   "outputs": [],
   "source": [
    "#!cat /Users/asturges/.kaggle/competitions/house-prices-advanced-regression-techniques/data_description.txt"
   ]
  },
  {
   "cell_type": "code",
   "execution_count": 5,
   "metadata": {},
   "outputs": [],
   "source": [
    "#!head /Users/asturges/.kaggle/competitions/house-prices-advanced-regression-techniques/sample_submission.csv"
   ]
  },
  {
   "cell_type": "code",
   "execution_count": 6,
   "metadata": {},
   "outputs": [],
   "source": [
    "#!head /Users/asturges/.kaggle/competitions/house-prices-advanced-regression-techniques/train.csv"
   ]
  },
  {
   "cell_type": "code",
   "execution_count": 87,
   "metadata": {},
   "outputs": [
    {
     "name": "stdout",
     "output_type": "stream",
     "text": [
      "('Test shape: ', (1459, 80))\n",
      "('Train shape: ', (1460, 81))\n"
     ]
    },
    {
     "data": {
      "text/html": [
       "<div>\n",
       "<style scoped>\n",
       "    .dataframe tbody tr th:only-of-type {\n",
       "        vertical-align: middle;\n",
       "    }\n",
       "\n",
       "    .dataframe tbody tr th {\n",
       "        vertical-align: top;\n",
       "    }\n",
       "\n",
       "    .dataframe thead th {\n",
       "        text-align: right;\n",
       "    }\n",
       "</style>\n",
       "<table border=\"1\" class=\"dataframe\">\n",
       "  <thead>\n",
       "    <tr style=\"text-align: right;\">\n",
       "      <th></th>\n",
       "      <th>Id</th>\n",
       "      <th>MSSubClass</th>\n",
       "      <th>MSZoning</th>\n",
       "      <th>LotFrontage</th>\n",
       "      <th>LotArea</th>\n",
       "      <th>Street</th>\n",
       "      <th>Alley</th>\n",
       "      <th>LotShape</th>\n",
       "      <th>LandContour</th>\n",
       "      <th>Utilities</th>\n",
       "      <th>...</th>\n",
       "      <th>PoolArea</th>\n",
       "      <th>PoolQC</th>\n",
       "      <th>Fence</th>\n",
       "      <th>MiscFeature</th>\n",
       "      <th>MiscVal</th>\n",
       "      <th>MoSold</th>\n",
       "      <th>YrSold</th>\n",
       "      <th>SaleType</th>\n",
       "      <th>SaleCondition</th>\n",
       "      <th>SalePrice</th>\n",
       "    </tr>\n",
       "  </thead>\n",
       "  <tbody>\n",
       "    <tr>\n",
       "      <th>0</th>\n",
       "      <td>1</td>\n",
       "      <td>60</td>\n",
       "      <td>RL</td>\n",
       "      <td>65.0</td>\n",
       "      <td>8450</td>\n",
       "      <td>Pave</td>\n",
       "      <td>NaN</td>\n",
       "      <td>Reg</td>\n",
       "      <td>Lvl</td>\n",
       "      <td>AllPub</td>\n",
       "      <td>...</td>\n",
       "      <td>0</td>\n",
       "      <td>NaN</td>\n",
       "      <td>NaN</td>\n",
       "      <td>NaN</td>\n",
       "      <td>0</td>\n",
       "      <td>2</td>\n",
       "      <td>2008</td>\n",
       "      <td>WD</td>\n",
       "      <td>Normal</td>\n",
       "      <td>208500</td>\n",
       "    </tr>\n",
       "    <tr>\n",
       "      <th>1</th>\n",
       "      <td>2</td>\n",
       "      <td>20</td>\n",
       "      <td>RL</td>\n",
       "      <td>80.0</td>\n",
       "      <td>9600</td>\n",
       "      <td>Pave</td>\n",
       "      <td>NaN</td>\n",
       "      <td>Reg</td>\n",
       "      <td>Lvl</td>\n",
       "      <td>AllPub</td>\n",
       "      <td>...</td>\n",
       "      <td>0</td>\n",
       "      <td>NaN</td>\n",
       "      <td>NaN</td>\n",
       "      <td>NaN</td>\n",
       "      <td>0</td>\n",
       "      <td>5</td>\n",
       "      <td>2007</td>\n",
       "      <td>WD</td>\n",
       "      <td>Normal</td>\n",
       "      <td>181500</td>\n",
       "    </tr>\n",
       "    <tr>\n",
       "      <th>2</th>\n",
       "      <td>3</td>\n",
       "      <td>60</td>\n",
       "      <td>RL</td>\n",
       "      <td>68.0</td>\n",
       "      <td>11250</td>\n",
       "      <td>Pave</td>\n",
       "      <td>NaN</td>\n",
       "      <td>IR1</td>\n",
       "      <td>Lvl</td>\n",
       "      <td>AllPub</td>\n",
       "      <td>...</td>\n",
       "      <td>0</td>\n",
       "      <td>NaN</td>\n",
       "      <td>NaN</td>\n",
       "      <td>NaN</td>\n",
       "      <td>0</td>\n",
       "      <td>9</td>\n",
       "      <td>2008</td>\n",
       "      <td>WD</td>\n",
       "      <td>Normal</td>\n",
       "      <td>223500</td>\n",
       "    </tr>\n",
       "    <tr>\n",
       "      <th>3</th>\n",
       "      <td>4</td>\n",
       "      <td>70</td>\n",
       "      <td>RL</td>\n",
       "      <td>60.0</td>\n",
       "      <td>9550</td>\n",
       "      <td>Pave</td>\n",
       "      <td>NaN</td>\n",
       "      <td>IR1</td>\n",
       "      <td>Lvl</td>\n",
       "      <td>AllPub</td>\n",
       "      <td>...</td>\n",
       "      <td>0</td>\n",
       "      <td>NaN</td>\n",
       "      <td>NaN</td>\n",
       "      <td>NaN</td>\n",
       "      <td>0</td>\n",
       "      <td>2</td>\n",
       "      <td>2006</td>\n",
       "      <td>WD</td>\n",
       "      <td>Abnorml</td>\n",
       "      <td>140000</td>\n",
       "    </tr>\n",
       "    <tr>\n",
       "      <th>4</th>\n",
       "      <td>5</td>\n",
       "      <td>60</td>\n",
       "      <td>RL</td>\n",
       "      <td>84.0</td>\n",
       "      <td>14260</td>\n",
       "      <td>Pave</td>\n",
       "      <td>NaN</td>\n",
       "      <td>IR1</td>\n",
       "      <td>Lvl</td>\n",
       "      <td>AllPub</td>\n",
       "      <td>...</td>\n",
       "      <td>0</td>\n",
       "      <td>NaN</td>\n",
       "      <td>NaN</td>\n",
       "      <td>NaN</td>\n",
       "      <td>0</td>\n",
       "      <td>12</td>\n",
       "      <td>2008</td>\n",
       "      <td>WD</td>\n",
       "      <td>Normal</td>\n",
       "      <td>250000</td>\n",
       "    </tr>\n",
       "  </tbody>\n",
       "</table>\n",
       "<p>5 rows × 81 columns</p>\n",
       "</div>"
      ],
      "text/plain": [
       "   Id  MSSubClass MSZoning  LotFrontage  LotArea Street Alley LotShape  \\\n",
       "0   1          60       RL         65.0     8450   Pave   NaN      Reg   \n",
       "1   2          20       RL         80.0     9600   Pave   NaN      Reg   \n",
       "2   3          60       RL         68.0    11250   Pave   NaN      IR1   \n",
       "3   4          70       RL         60.0     9550   Pave   NaN      IR1   \n",
       "4   5          60       RL         84.0    14260   Pave   NaN      IR1   \n",
       "\n",
       "  LandContour Utilities    ...     PoolArea PoolQC Fence MiscFeature MiscVal  \\\n",
       "0         Lvl    AllPub    ...            0    NaN   NaN         NaN       0   \n",
       "1         Lvl    AllPub    ...            0    NaN   NaN         NaN       0   \n",
       "2         Lvl    AllPub    ...            0    NaN   NaN         NaN       0   \n",
       "3         Lvl    AllPub    ...            0    NaN   NaN         NaN       0   \n",
       "4         Lvl    AllPub    ...            0    NaN   NaN         NaN       0   \n",
       "\n",
       "  MoSold YrSold  SaleType  SaleCondition  SalePrice  \n",
       "0      2   2008        WD         Normal     208500  \n",
       "1      5   2007        WD         Normal     181500  \n",
       "2      9   2008        WD         Normal     223500  \n",
       "3      2   2006        WD        Abnorml     140000  \n",
       "4     12   2008        WD         Normal     250000  \n",
       "\n",
       "[5 rows x 81 columns]"
      ]
     },
     "execution_count": 87,
     "metadata": {},
     "output_type": "execute_result"
    }
   ],
   "source": [
    "SOURCE_DIR = \"/Users/asturges/.kaggle/competitions/house-prices-advanced-regression-techniques/\"\n",
    "raw_test = pd.read_csv(os.path.join(SOURCE_DIR, 'test.csv'))\n",
    "raw_train = pd.read_csv(os.path.join(SOURCE_DIR, 'train.csv'))\n",
    "raw_X_train = raw_train.drop('SalePrice', axis=1)\n",
    "print(\"Test shape: \", raw_test.shape)\n",
    "print(\"Train shape: \", raw_train.shape)\n",
    "raw_train.head()"
   ]
  },
  {
   "cell_type": "code",
   "execution_count": 88,
   "metadata": {},
   "outputs": [
    {
     "data": {
      "text/plain": [
       "<matplotlib.collections.PathCollection at 0x119de7b10>"
      ]
     },
     "execution_count": 88,
     "metadata": {},
     "output_type": "execute_result"
    },
    {
     "data": {
      "image/png": "[encoded data removed]",
      "text/plain": [
       "<Figure size 432x288 with 1 Axes>"
      ]
     },
     "metadata": {},
     "output_type": "display_data"
    }
   ],
   "source": [
    "plt.scatter(np.log(raw_X_train.LotArea), np.log(raw_train['SalePrice']))"
   ]
  },
  {
   "cell_type": "code",
   "execution_count": 89,
   "metadata": {},
   "outputs": [
    {
     "data": {
      "text/plain": [
       "SalePrice      1.000000\n",
       "OverallQual    0.790982\n",
       "GrLivArea      0.708624\n",
       "GarageCars     0.640409\n",
       "GarageArea     0.623431\n",
       "Name: SalePrice, dtype: float64"
      ]
     },
     "execution_count": 89,
     "metadata": {},
     "output_type": "execute_result"
    }
   ],
   "source": [
    "corr_matrix = raw_train.corr()\n",
    "corr_matrix['SalePrice'].sort_values(ascending=False)[:5]"
   ]
  },
  {
   "cell_type": "code",
   "execution_count": 90,
   "metadata": {},
   "outputs": [
    {
     "data": {
      "text/html": [
       "<div>\n",
       "<style scoped>\n",
       "    .dataframe tbody tr th:only-of-type {\n",
       "        vertical-align: middle;\n",
       "    }\n",
       "\n",
       "    .dataframe tbody tr th {\n",
       "        vertical-align: top;\n",
       "    }\n",
       "\n",
       "    .dataframe thead th {\n",
       "        text-align: right;\n",
       "    }\n",
       "</style>\n",
       "<table border=\"1\" class=\"dataframe\">\n",
       "  <thead>\n",
       "    <tr style=\"text-align: right;\">\n",
       "      <th></th>\n",
       "      <th>OverallQual</th>\n",
       "      <th>GrLivArea</th>\n",
       "      <th>GarageCars</th>\n",
       "      <th>GarageArea</th>\n",
       "    </tr>\n",
       "  </thead>\n",
       "  <tbody>\n",
       "    <tr>\n",
       "      <th>0</th>\n",
       "      <td>7</td>\n",
       "      <td>1710</td>\n",
       "      <td>2</td>\n",
       "      <td>548</td>\n",
       "    </tr>\n",
       "    <tr>\n",
       "      <th>1</th>\n",
       "      <td>6</td>\n",
       "      <td>1262</td>\n",
       "      <td>2</td>\n",
       "      <td>460</td>\n",
       "    </tr>\n",
       "    <tr>\n",
       "      <th>2</th>\n",
       "      <td>7</td>\n",
       "      <td>1786</td>\n",
       "      <td>2</td>\n",
       "      <td>608</td>\n",
       "    </tr>\n",
       "    <tr>\n",
       "      <th>3</th>\n",
       "      <td>7</td>\n",
       "      <td>1717</td>\n",
       "      <td>3</td>\n",
       "      <td>642</td>\n",
       "    </tr>\n",
       "    <tr>\n",
       "      <th>4</th>\n",
       "      <td>8</td>\n",
       "      <td>2198</td>\n",
       "      <td>3</td>\n",
       "      <td>836</td>\n",
       "    </tr>\n",
       "  </tbody>\n",
       "</table>\n",
       "</div>"
      ],
      "text/plain": [
       "   OverallQual  GrLivArea  GarageCars  GarageArea\n",
       "0            7       1710           2         548\n",
       "1            6       1262           2         460\n",
       "2            7       1786           2         608\n",
       "3            7       1717           3         642\n",
       "4            8       2198           3         836"
      ]
     },
     "execution_count": 90,
     "metadata": {},
     "output_type": "execute_result"
    }
   ],
   "source": [
    "columns = corr_matrix['SalePrice'].sort_values(ascending=False)[1:5].keys()\n",
    "raw_train[columns].head()"
   ]
  },
  {
   "cell_type": "code",
   "execution_count": 91,
   "metadata": {},
   "outputs": [],
   "source": [
    "#try:\n",
    "#    raw_train.drop(['PoolQC'], axis=1, inplace=True)\n",
    "#except ValueError:\n",
    "#    pass\n",
    "#raw_train['LotFrontage'] = raw_train.groupby(\"Neighborhood\")[\"LotFrontage\"].transform(lambda x: x.fillna(x.median()))"
   ]
  },
  {
   "cell_type": "code",
   "execution_count": 92,
   "metadata": {},
   "outputs": [],
   "source": [
    "def remove_items_from_list(items, lst):\n",
    "    return [x for x in lst if x not in items]"
   ]
  },
  {
   "cell_type": "code",
   "execution_count": 112,
   "metadata": {},
   "outputs": [
    {
     "name": "stdout",
     "output_type": "stream",
     "text": [
      "Numeric columns: (34)\n",
      "['MSSubClass', 'LotFrontage', 'LotArea', 'OverallQual', 'OverallCond', 'YearBuilt']\n",
      "Categorial columns: (43)\n",
      "['MSZoning', 'Street', 'Alley', 'LotShape', 'LandContour', 'Utilities']\n",
      "Non-null categorical columns: (20)\n",
      "['Street', 'LotShape', 'LandContour', 'LotConfig', 'LandSlope', 'Neighborhood']\n"
     ]
    }
   ],
   "source": [
    "union = pd.concat([raw_X_train, raw_test])\n",
    "columns_to_ignore = ['Id', 'LowQualFinSF', 'BsmtFinSF2']\n",
    "numeric_columns = union.select_dtypes(include=[np.number]).columns.tolist()\n",
    "numeric_columns = remove_items_from_list(columns_to_ignore, numeric_columns)\n",
    "categorical_columns = union.select_dtypes(exclude=[np.number]).columns.tolist()\n",
    "categorical_columns = remove_items_from_list(columns_to_ignore, categorical_columns)\n",
    "columns_have_no_nulls = pd.notnull(union[categorical_columns]).apply(np.all)\n",
    "non_null_categorical_columns = list(columns_have_no_nulls[columns_have_no_nulls==True].index)\n",
    "print(\"Numeric columns: ({})\".format(len(numeric_columns)))\n",
    "print(numeric_columns[:6])\n",
    "print(\"Categorial columns: ({})\".format(len(categorical_columns)))\n",
    "print(categorical_columns[:6])\n",
    "print(\"Non-null categorical columns: ({})\".format(len(non_null_categorical_columns)))\n",
    "print(non_null_categorical_columns)[:6]"
   ]
  },
  {
   "cell_type": "code",
   "execution_count": 113,
   "metadata": {},
   "outputs": [],
   "source": [
    "class DataFrameSelector(BaseEstimator, TransformerMixin):\n",
    "    def __init__(self, column_names=['OverallQual', 'GrLivArea', 'GarageCars']):\n",
    "        self.column_names = column_names\n",
    "\n",
    "    def fit(self, X, y=None):\n",
    "        return self\n",
    "\n",
    "    def transform(self, X, y=None):\n",
    "        return X[self.column_names]"
   ]
  },
  {
   "cell_type": "code",
   "execution_count": 114,
   "metadata": {},
   "outputs": [],
   "source": [
    "class DataFrameCleaner(BaseEstimator, TransformerMixin):\n",
    "    def __init__(self):\n",
    "        pass\n",
    "    \n",
    "    def fit(self, X, y=None):\n",
    "        return self\n",
    "    \n",
    "    def transform(self, X, y=None):\n",
    "        X['Alley'].fillna('no_alley', inplace=True)\n",
    "        X.Fence.fillna('no_fence', inplace=True)\n",
    "        X.MiscFeature.fillna('no_misc_feature', inplace=True)\n",
    "        return X.drop(\"PoolQC\", axis=1)"
   ]
  },
  {
   "cell_type": "code",
   "execution_count": 151,
   "metadata": {},
   "outputs": [],
   "source": [
    "num_pipeline = Pipeline([\n",
    "    ('selector', DataFrameSelector(column_names=numeric_columns)),\n",
    "    ('imputer', Imputer(strategy='median')),\n",
    "    ('std_scaler', StandardScaler()),\n",
    "])\n",
    "\n",
    "cat_pipeline = Pipeline(steps=[\n",
    "    ('cleaner', DataFrameCleaner()),\n",
    "    ('selector', DataFrameSelector(column_names=non_null_categorical_columns)),\n",
    "    #('ohe', CategoricalEncoder(encoding=\"onehot-dense\")),\n",
    "])\n",
    "\n",
    "\n",
    "union_pipeline = FeatureUnion(transformer_list=[('num_pipeline', num_pipeline), \n",
    "                                               ('cat_pipeline', cat_pipeline),\n",
    "                                              ])\n",
    "full_pipeline = Pipeline(steps=[\n",
    "    ('union_pipeline', union_pipeline),\n",
    "    #('pca', PCA(n_components=0.95))\n",
    "])"
   ]
  },
  {
   "cell_type": "code",
   "execution_count": 120,
   "metadata": {},
   "outputs": [],
   "source": [
    "selector = DataFrameSelector(column_names=numeric_columns)\n",
    "t = selector.fit_transform(raw_X_train)"
   ]
  },
  {
   "cell_type": "code",
   "execution_count": 121,
   "metadata": {},
   "outputs": [],
   "source": [
    "imputer = Imputer(strategy='median')\n",
    "u = imputer.fit_transform(t)\n",
    "v = pd.DataFrame(u, columns=numeric_columns)"
   ]
  },
  {
   "cell_type": "code",
   "execution_count": 124,
   "metadata": {},
   "outputs": [],
   "source": [
    "scaler = StandardScaler()\n",
    "w = pd.DataFrame(scaler.fit_transform(v), columns=numeric_columns)"
   ]
  },
  {
   "cell_type": "code",
   "execution_count": 197,
   "metadata": {},
   "outputs": [],
   "source": [
    "def run_pipeline_and_do_ohe(df):\n",
    "    t = full_pipeline.fit_transform(df)\n",
    "    u = pd.DataFrame(t, columns=(numeric_columns+non_null_categorical_columns))\n",
    "    v = pd.get_dummies(u, columns=non_null_categorical_columns)\n",
    "    return v"
   ]
  },
  {
   "cell_type": "code",
   "execution_count": 198,
   "metadata": {},
   "outputs": [
    {
     "name": "stdout",
     "output_type": "stream",
     "text": [
      "(1460, 80)\n",
      "(1459, 80)\n",
      "(1460, 158)\n",
      "(1459, 158)\n"
     ]
    }
   ],
   "source": [
    "print(raw_X_train.shape)\n",
    "print(raw_test.shape)\n",
    "union_prepped = run_pipeline_and_do_ohe(union)\n",
    "X_train_prepped, X_test_prepped = union_prepped[0:raw_X_train.shape[0]], union_prepped[raw_X_train.shape[0]:]\n",
    "print(X_train_prepped.shape)\n",
    "print(X_test_prepped.shape)"
   ]
  },
  {
   "cell_type": "code",
   "execution_count": 171,
   "metadata": {},
   "outputs": [
    {
     "name": "stdout",
     "output_type": "stream",
     "text": [
      "(1095, 158)\n",
      "(1095,)\n",
      "(365, 158)\n",
      "(365,)\n"
     ]
    }
   ],
   "source": [
    "X_train, X_test, y_train, y_test = train_test_split(X_train_prepped, raw_train['SalePrice'])\n",
    "print(X_train.shape)\n",
    "print(y_train.shape)\n",
    "print(X_test.shape)\n",
    "print(y_test.shape)"
   ]
  },
  {
   "cell_type": "code",
   "execution_count": 172,
   "metadata": {},
   "outputs": [
    {
     "name": "stdout",
     "output_type": "stream",
     "text": [
      "Train RMSE: 24189\n",
      "Test RMSE:  25261\n"
     ]
    }
   ],
   "source": [
    "lin_reg = LinearRegression()\n",
    "lin_reg.fit(X_train, y_train)\n",
    "y_train_predictions = lin_reg.predict(X_train)\n",
    "lin_reg_mse = mean_squared_error(y_true=y_train, y_pred=y_train_predictions)\n",
    "rmse = np.sqrt(lin_reg_mse)\n",
    "print(\"Train RMSE: {:0.0f}\".format(rmse))\n",
    "y_test_predictions = lin_reg.predict(X_test)\n",
    "lin_reg_mse = mean_squared_error(y_true=y_test, y_pred=y_test_predictions)\n",
    "rmse = np.sqrt(lin_reg_mse)\n",
    "print(\"Test RMSE:  {:0.0f}\".format(rmse))"
   ]
  },
  {
   "cell_type": "code",
   "execution_count": 173,
   "metadata": {},
   "outputs": [],
   "source": [
    "lin_reg = LinearRegression()\n",
    "lin_reg.fit(X_train_prepped, raw_train['SalePrice'])\n",
    "y_test_predictions = lin_reg.predict(X_test_prepped)"
   ]
  },
  {
   "cell_type": "code",
   "execution_count": 174,
   "metadata": {},
   "outputs": [
    {
     "name": "stdout",
     "output_type": "stream",
     "text": [
      "Train RMSE: 23679\n"
     ]
    }
   ],
   "source": [
    "lin_reg = LinearRegression()\n",
    "lin_reg.fit(X_train_prepped, raw_train['SalePrice'])\n",
    "y_train_predictions = lin_reg.predict(X_train_prepped)\n",
    "lin_reg_mse = mean_squared_error(y_true=raw_train['SalePrice'], y_pred=y_train_predictions)\n",
    "rmse = np.sqrt(lin_reg_mse)\n",
    "print(\"Train RMSE: {:0.0f}\".format(rmse))\n",
    "y_test_predictions = lin_reg.predict(X_test_prepped)"
   ]
  },
  {
   "cell_type": "code",
   "execution_count": 175,
   "metadata": {},
   "outputs": [
    {
     "name": "stdout",
     "output_type": "stream",
     "text": [
      "50698.534847193325\n",
      "52352.23489913381\n",
      "[55178 53404 53819 50163 43630 49307 75626 72586 53953 53982]\n",
      "Mean: 56,165; Std: 9,552\n"
     ]
    }
   ],
   "source": [
    "tree_reg = DecisionTreeRegressor(max_depth=3, min_samples_split=3, min_samples_leaf=5, max_features=25)\n",
    "tree_reg.fit(X_train, y_train)\n",
    "y_train_predictions = tree_reg.predict(X_train)\n",
    "print(np.sqrt(mean_squared_error(y_true=y_train, y_pred=y_train_predictions)))\n",
    "y_test_predictions = tree_reg.predict(X_test)\n",
    "print(np.sqrt(mean_squared_error(y_true=y_test, y_pred=y_test_predictions)))\n",
    "\n",
    "# Cross Validation\n",
    "scores = cross_val_score(tree_reg, X_train, y_train, scoring='neg_mean_squared_error', cv=10)\n",
    "rmse_scores = np.sqrt(-scores)\n",
    "print(rmse_scores.astype(int))\n",
    "print('Mean: {:,.0f}; Std: {:,.0f}'.format(rmse_scores.mean(), rmse_scores.std()))"
   ]
  },
  {
   "cell_type": "code",
   "execution_count": 176,
   "metadata": {},
   "outputs": [
    {
     "data": {
      "image/svg+xml": [
       "<?xml version=\"1.0\" encoding=\"UTF-8\" standalone=\"no\"?>\n",
       "<!DOCTYPE svg PUBLIC \"-//W3C//DTD SVG 1.1//EN\"\n",
       " \"http://www.w3.org/Graphics/SVG/1.1/DTD/svg11.dtd\">\n",
       "<!-- Generated by graphviz version 2.40.1 (20161225.0304)\n",
       " -->\n",
       "<!-- Title: Tree Pages: 1 -->\n",
       "<svg width=\"1262pt\" height=\"358pt\"\n",
       " viewBox=\"0.00 0.00 1261.95 358.00\" xmlns=\"http://www.w3.org/2000/svg\" xmlns:xlink=\"http://www.w3.org/1999/xlink\">\n",
       "<g id=\"graph0\" class=\"graph\" transform=\"scale(1 1) rotate(0) translate(4 354)\">\n",
       "<title>Tree</title>\n",
       "<polygon fill=\"#ffffff\" stroke=\"transparent\" points=\"-4,4 -4,-354 1257.9473,-354 1257.9473,4 -4,4\"/>\n",
       "<!-- 0 -->\n",
       "<g id=\"node1\" class=\"node\">\n",
       "<title>0</title>\n",
       "<polygon fill=\"none\" stroke=\"#000000\" points=\"657.4209,-350 523.5264,-350 523.5264,-286 657.4209,-286 657.4209,-350\"/>\n",
       "<text text-anchor=\"middle\" x=\"590.4736\" y=\"-334.8\" font-family=\"Times,serif\" font-size=\"14.00\" fill=\"#000000\">GrLivArea &lt;= 0.057</text>\n",
       "<text text-anchor=\"middle\" x=\"590.4736\" y=\"-320.8\" font-family=\"Times,serif\" font-size=\"14.00\" fill=\"#000000\">mse = 6462065513.9</text>\n",
       "<text text-anchor=\"middle\" x=\"590.4736\" y=\"-306.8\" font-family=\"Times,serif\" font-size=\"14.00\" fill=\"#000000\">samples = 1095</text>\n",
       "<text text-anchor=\"middle\" x=\"590.4736\" y=\"-292.8\" font-family=\"Times,serif\" font-size=\"14.00\" fill=\"#000000\">value = 180145.331</text>\n",
       "</g>\n",
       "<!-- 1 -->\n",
       "<g id=\"node2\" class=\"node\">\n",
       "<title>1</title>\n",
       "<polygon fill=\"none\" stroke=\"#000000\" points=\"576.4697,-250 432.4775,-250 432.4775,-186 576.4697,-186 576.4697,-250\"/>\n",
       "<text text-anchor=\"middle\" x=\"504.4736\" y=\"-234.8\" font-family=\"Times,serif\" font-size=\"14.00\" fill=\"#000000\">TotalBsmtSF &lt;= 0.223</text>\n",
       "<text text-anchor=\"middle\" x=\"504.4736\" y=\"-220.8\" font-family=\"Times,serif\" font-size=\"14.00\" fill=\"#000000\">mse = 1566202256.88</text>\n",
       "<text text-anchor=\"middle\" x=\"504.4736\" y=\"-206.8\" font-family=\"Times,serif\" font-size=\"14.00\" fill=\"#000000\">samples = 626</text>\n",
       "<text text-anchor=\"middle\" x=\"504.4736\" y=\"-192.8\" font-family=\"Times,serif\" font-size=\"14.00\" fill=\"#000000\">value = 139904.173</text>\n",
       "</g>\n",
       "<!-- 0&#45;&gt;1 -->\n",
       "<g id=\"edge1\" class=\"edge\">\n",
       "<title>0&#45;&gt;1</title>\n",
       "<path fill=\"none\" stroke=\"#000000\" d=\"M562.7893,-285.8089C555.117,-276.8877 546.6965,-267.0963 538.6989,-257.7968\"/>\n",
       "<polygon fill=\"#000000\" stroke=\"#000000\" points=\"541.2802,-255.4305 532.1061,-250.1308 535.9729,-259.9948 541.2802,-255.4305\"/>\n",
       "<text text-anchor=\"middle\" x=\"530.2297\" y=\"-270.8602\" font-family=\"Times,serif\" font-size=\"14.00\" fill=\"#000000\">True</text>\n",
       "</g>\n",
       "<!-- 8 -->\n",
       "<g id=\"node9\" class=\"node\">\n",
       "<title>8</title>\n",
       "<polygon fill=\"none\" stroke=\"#000000\" points=\"818.9209,-250 678.0264,-250 678.0264,-186 818.9209,-186 818.9209,-250\"/>\n",
       "<text text-anchor=\"middle\" x=\"748.4736\" y=\"-234.8\" font-family=\"Times,serif\" font-size=\"14.00\" fill=\"#000000\">ExterQual_Ex &lt;= 0.5</text>\n",
       "<text text-anchor=\"middle\" x=\"748.4736\" y=\"-220.8\" font-family=\"Times,serif\" font-size=\"14.00\" fill=\"#000000\">mse = 7950418823.32</text>\n",
       "<text text-anchor=\"middle\" x=\"748.4736\" y=\"-206.8\" font-family=\"Times,serif\" font-size=\"14.00\" fill=\"#000000\">samples = 469</text>\n",
       "<text text-anchor=\"middle\" x=\"748.4736\" y=\"-192.8\" font-family=\"Times,serif\" font-size=\"14.00\" fill=\"#000000\">value = 233857.409</text>\n",
       "</g>\n",
       "<!-- 0&#45;&gt;8 -->\n",
       "<g id=\"edge8\" class=\"edge\">\n",
       "<title>0&#45;&gt;8</title>\n",
       "<path fill=\"none\" stroke=\"#000000\" d=\"M641.3355,-285.8089C656.5588,-276.174 673.3855,-265.5241 689.1051,-255.575\"/>\n",
       "<polygon fill=\"#000000\" stroke=\"#000000\" points=\"691.129,-258.4362 697.707,-250.1308 687.3854,-252.5213 691.129,-258.4362\"/>\n",
       "<text text-anchor=\"middle\" x=\"692.2237\" y=\"-270.322\" font-family=\"Times,serif\" font-size=\"14.00\" fill=\"#000000\">False</text>\n",
       "</g>\n",
       "<!-- 2 -->\n",
       "<g id=\"node3\" class=\"node\">\n",
       "<title>2</title>\n",
       "<polygon fill=\"none\" stroke=\"#000000\" points=\"299.9209,-150 159.0264,-150 159.0264,-86 299.9209,-86 299.9209,-150\"/>\n",
       "<text text-anchor=\"middle\" x=\"229.4736\" y=\"-134.8\" font-family=\"Times,serif\" font-size=\"14.00\" fill=\"#000000\">ExterQual_Gd &lt;= 0.5</text>\n",
       "<text text-anchor=\"middle\" x=\"229.4736\" y=\"-120.8\" font-family=\"Times,serif\" font-size=\"14.00\" fill=\"#000000\">mse = 899644738.192</text>\n",
       "<text text-anchor=\"middle\" x=\"229.4736\" y=\"-106.8\" font-family=\"Times,serif\" font-size=\"14.00\" fill=\"#000000\">samples = 476</text>\n",
       "<text text-anchor=\"middle\" x=\"229.4736\" y=\"-92.8\" font-family=\"Times,serif\" font-size=\"14.00\" fill=\"#000000\">value = 126988.788</text>\n",
       "</g>\n",
       "<!-- 1&#45;&gt;2 -->\n",
       "<g id=\"edge2\" class=\"edge\">\n",
       "<title>1&#45;&gt;2</title>\n",
       "<path fill=\"none\" stroke=\"#000000\" d=\"M432.2206,-191.7262C394.6645,-178.0694 348.6541,-161.3383 309.9625,-147.2687\"/>\n",
       "<polygon fill=\"#000000\" stroke=\"#000000\" points=\"310.887,-143.8807 300.293,-143.7525 308.4948,-150.4593 310.887,-143.8807\"/>\n",
       "</g>\n",
       "<!-- 5 -->\n",
       "<g id=\"node6\" class=\"node\">\n",
       "<title>5</title>\n",
       "<polygon fill=\"none\" stroke=\"#000000\" points=\"575.5689,-150 433.3783,-150 433.3783,-86 575.5689,-86 575.5689,-150\"/>\n",
       "<text text-anchor=\"middle\" x=\"504.4736\" y=\"-134.8\" font-family=\"Times,serif\" font-size=\"14.00\" fill=\"#000000\">GarageYrBlt &lt;= 0.697</text>\n",
       "<text text-anchor=\"middle\" x=\"504.4736\" y=\"-120.8\" font-family=\"Times,serif\" font-size=\"14.00\" fill=\"#000000\">mse = 1472321184.75</text>\n",
       "<text text-anchor=\"middle\" x=\"504.4736\" y=\"-106.8\" font-family=\"Times,serif\" font-size=\"14.00\" fill=\"#000000\">samples = 150</text>\n",
       "<text text-anchor=\"middle\" x=\"504.4736\" y=\"-92.8\" font-family=\"Times,serif\" font-size=\"14.00\" fill=\"#000000\">value = 180888.993</text>\n",
       "</g>\n",
       "<!-- 1&#45;&gt;5 -->\n",
       "<g id=\"edge5\" class=\"edge\">\n",
       "<title>1&#45;&gt;5</title>\n",
       "<path fill=\"none\" stroke=\"#000000\" d=\"M504.4736,-185.8089C504.4736,-177.6906 504.4736,-168.8517 504.4736,-160.3186\"/>\n",
       "<polygon fill=\"#000000\" stroke=\"#000000\" points=\"507.9737,-160.1307 504.4736,-150.1308 500.9737,-160.1308 507.9737,-160.1307\"/>\n",
       "</g>\n",
       "<!-- 3 -->\n",
       "<g id=\"node4\" class=\"node\">\n",
       "<title>3</title>\n",
       "<polygon fill=\"none\" stroke=\"#000000\" points=\"140.9209,-50 .0264,-50 .0264,0 140.9209,0 140.9209,-50\"/>\n",
       "<text text-anchor=\"middle\" x=\"70.4736\" y=\"-34.8\" font-family=\"Times,serif\" font-size=\"14.00\" fill=\"#000000\">mse = 830579090.747</text>\n",
       "<text text-anchor=\"middle\" x=\"70.4736\" y=\"-20.8\" font-family=\"Times,serif\" font-size=\"14.00\" fill=\"#000000\">samples = 428</text>\n",
       "<text text-anchor=\"middle\" x=\"70.4736\" y=\"-6.8\" font-family=\"Times,serif\" font-size=\"14.00\" fill=\"#000000\">value = 123601.825</text>\n",
       "</g>\n",
       "<!-- 2&#45;&gt;3 -->\n",
       "<g id=\"edge3\" class=\"edge\">\n",
       "<title>2&#45;&gt;3</title>\n",
       "<path fill=\"none\" stroke=\"#000000\" d=\"M174.7549,-85.9947C157.6198,-75.9723 138.7781,-64.9517 121.8798,-55.0678\"/>\n",
       "<polygon fill=\"#000000\" stroke=\"#000000\" points=\"123.6386,-52.0418 113.2396,-50.014 120.1043,-58.0841 123.6386,-52.0418\"/>\n",
       "</g>\n",
       "<!-- 4 -->\n",
       "<g id=\"node5\" class=\"node\">\n",
       "<title>4</title>\n",
       "<polygon fill=\"none\" stroke=\"#000000\" points=\"299.9089,-50 159.0384,-50 159.0384,0 299.9089,0 299.9089,-50\"/>\n",
       "<text text-anchor=\"middle\" x=\"229.4736\" y=\"-34.8\" font-family=\"Times,serif\" font-size=\"14.00\" fill=\"#000000\">mse = 501126986.748</text>\n",
       "<text text-anchor=\"middle\" x=\"229.4736\" y=\"-20.8\" font-family=\"Times,serif\" font-size=\"14.00\" fill=\"#000000\">samples = 48</text>\n",
       "<text text-anchor=\"middle\" x=\"229.4736\" y=\"-6.8\" font-family=\"Times,serif\" font-size=\"14.00\" fill=\"#000000\">value = 157189.208</text>\n",
       "</g>\n",
       "<!-- 2&#45;&gt;4 -->\n",
       "<g id=\"edge4\" class=\"edge\">\n",
       "<title>2&#45;&gt;4</title>\n",
       "<path fill=\"none\" stroke=\"#000000\" d=\"M229.4736,-85.9947C229.4736,-77.6273 229.4736,-68.5643 229.4736,-60.0478\"/>\n",
       "<polygon fill=\"#000000\" stroke=\"#000000\" points=\"232.9737,-60.014 229.4736,-50.014 225.9737,-60.0141 232.9737,-60.014\"/>\n",
       "</g>\n",
       "<!-- 6 -->\n",
       "<g id=\"node7\" class=\"node\">\n",
       "<title>6</title>\n",
       "<polygon fill=\"none\" stroke=\"#000000\" points=\"458.9209,-50 318.0264,-50 318.0264,0 458.9209,0 458.9209,-50\"/>\n",
       "<text text-anchor=\"middle\" x=\"388.4736\" y=\"-34.8\" font-family=\"Times,serif\" font-size=\"14.00\" fill=\"#000000\">mse = 830208033.048</text>\n",
       "<text text-anchor=\"middle\" x=\"388.4736\" y=\"-20.8\" font-family=\"Times,serif\" font-size=\"14.00\" fill=\"#000000\">samples = 81</text>\n",
       "<text text-anchor=\"middle\" x=\"388.4736\" y=\"-6.8\" font-family=\"Times,serif\" font-size=\"14.00\" fill=\"#000000\">value = 160936.84</text>\n",
       "</g>\n",
       "<!-- 5&#45;&gt;6 -->\n",
       "<g id=\"edge6\" class=\"edge\">\n",
       "<title>5&#45;&gt;6</title>\n",
       "<path fill=\"none\" stroke=\"#000000\" d=\"M464.553,-85.9947C452.6254,-76.432 439.5643,-65.9606 427.6828,-56.4349\"/>\n",
       "<polygon fill=\"#000000\" stroke=\"#000000\" points=\"429.6654,-53.5385 419.6739,-50.014 425.2868,-59 429.6654,-53.5385\"/>\n",
       "</g>\n",
       "<!-- 7 -->\n",
       "<g id=\"node8\" class=\"node\">\n",
       "<title>7</title>\n",
       "<polygon fill=\"none\" stroke=\"#000000\" points=\"617.9209,-50 477.0264,-50 477.0264,0 617.9209,0 617.9209,-50\"/>\n",
       "<text text-anchor=\"middle\" x=\"547.4736\" y=\"-34.8\" font-family=\"Times,serif\" font-size=\"14.00\" fill=\"#000000\">mse = 1210190504.31</text>\n",
       "<text text-anchor=\"middle\" x=\"547.4736\" y=\"-20.8\" font-family=\"Times,serif\" font-size=\"14.00\" fill=\"#000000\">samples = 69</text>\n",
       "<text text-anchor=\"middle\" x=\"547.4736\" y=\"-6.8\" font-family=\"Times,serif\" font-size=\"14.00\" fill=\"#000000\">value = 204311.087</text>\n",
       "</g>\n",
       "<!-- 5&#45;&gt;7 -->\n",
       "<g id=\"edge7\" class=\"edge\">\n",
       "<title>5&#45;&gt;7</title>\n",
       "<path fill=\"none\" stroke=\"#000000\" d=\"M519.2718,-85.9947C523.2681,-77.3515 527.6077,-67.966 531.6574,-59.2073\"/>\n",
       "<polygon fill=\"#000000\" stroke=\"#000000\" points=\"534.888,-60.5597 535.908,-50.014 528.5343,-57.6219 534.888,-60.5597\"/>\n",
       "</g>\n",
       "<!-- 9 -->\n",
       "<g id=\"node10\" class=\"node\">\n",
       "<title>9</title>\n",
       "<polygon fill=\"none\" stroke=\"#000000\" points=\"830.8823,-150 666.0649,-150 666.0649,-86 830.8823,-86 830.8823,-150\"/>\n",
       "<text text-anchor=\"middle\" x=\"748.4736\" y=\"-134.8\" font-family=\"Times,serif\" font-size=\"14.00\" fill=\"#000000\">Foundation_PConc &lt;= 0.5</text>\n",
       "<text text-anchor=\"middle\" x=\"748.4736\" y=\"-120.8\" font-family=\"Times,serif\" font-size=\"14.00\" fill=\"#000000\">mse = 5363124185.17</text>\n",
       "<text text-anchor=\"middle\" x=\"748.4736\" y=\"-106.8\" font-family=\"Times,serif\" font-size=\"14.00\" fill=\"#000000\">samples = 433</text>\n",
       "<text text-anchor=\"middle\" x=\"748.4736\" y=\"-92.8\" font-family=\"Times,serif\" font-size=\"14.00\" fill=\"#000000\">value = 220798.206</text>\n",
       "</g>\n",
       "<!-- 8&#45;&gt;9 -->\n",
       "<g id=\"edge9\" class=\"edge\">\n",
       "<title>8&#45;&gt;9</title>\n",
       "<path fill=\"none\" stroke=\"#000000\" d=\"M748.4736,-185.8089C748.4736,-177.6906 748.4736,-168.8517 748.4736,-160.3186\"/>\n",
       "<polygon fill=\"#000000\" stroke=\"#000000\" points=\"751.9737,-160.1307 748.4736,-150.1308 744.9737,-160.1308 751.9737,-160.1307\"/>\n",
       "</g>\n",
       "<!-- 12 -->\n",
       "<g id=\"node13\" class=\"node\">\n",
       "<title>12</title>\n",
       "<polygon fill=\"none\" stroke=\"#000000\" points=\"1096.4697,-150 952.4775,-150 952.4775,-86 1096.4697,-86 1096.4697,-150\"/>\n",
       "<text text-anchor=\"middle\" x=\"1024.4736\" y=\"-134.8\" font-family=\"Times,serif\" font-size=\"14.00\" fill=\"#000000\">TotalBsmtSF &lt;= 0.664</text>\n",
       "<text text-anchor=\"middle\" x=\"1024.4736\" y=\"-120.8\" font-family=\"Times,serif\" font-size=\"14.00\" fill=\"#000000\">mse = 12346582116.2</text>\n",
       "<text text-anchor=\"middle\" x=\"1024.4736\" y=\"-106.8\" font-family=\"Times,serif\" font-size=\"14.00\" fill=\"#000000\">samples = 36</text>\n",
       "<text text-anchor=\"middle\" x=\"1024.4736\" y=\"-92.8\" font-family=\"Times,serif\" font-size=\"14.00\" fill=\"#000000\">value = 390930.611</text>\n",
       "</g>\n",
       "<!-- 8&#45;&gt;12 -->\n",
       "<g id=\"edge12\" class=\"edge\">\n",
       "<title>8&#45;&gt;12</title>\n",
       "<path fill=\"none\" stroke=\"#000000\" d=\"M819.1921,-192.3774C856.738,-178.7738 903.0812,-161.9828 942.2284,-147.799\"/>\n",
       "<polygon fill=\"#000000\" stroke=\"#000000\" points=\"943.8067,-150.9499 952.0164,-144.2526 941.4222,-144.3685 943.8067,-150.9499\"/>\n",
       "</g>\n",
       "<!-- 10 -->\n",
       "<g id=\"node11\" class=\"node\">\n",
       "<title>10</title>\n",
       "<polygon fill=\"none\" stroke=\"#000000\" points=\"776.9209,-50 636.0264,-50 636.0264,0 776.9209,0 776.9209,-50\"/>\n",
       "<text text-anchor=\"middle\" x=\"706.4736\" y=\"-34.8\" font-family=\"Times,serif\" font-size=\"14.00\" fill=\"#000000\">mse = 2948673375.59</text>\n",
       "<text text-anchor=\"middle\" x=\"706.4736\" y=\"-20.8\" font-family=\"Times,serif\" font-size=\"14.00\" fill=\"#000000\">samples = 186</text>\n",
       "<text text-anchor=\"middle\" x=\"706.4736\" y=\"-6.8\" font-family=\"Times,serif\" font-size=\"14.00\" fill=\"#000000\">value = 184090.161</text>\n",
       "</g>\n",
       "<!-- 9&#45;&gt;10 -->\n",
       "<g id=\"edge10\" class=\"edge\">\n",
       "<title>9&#45;&gt;10</title>\n",
       "<path fill=\"none\" stroke=\"#000000\" d=\"M734.0196,-85.9947C730.1162,-77.3515 725.8776,-67.966 721.9221,-59.2073\"/>\n",
       "<polygon fill=\"#000000\" stroke=\"#000000\" points=\"725.076,-57.6872 717.7703,-50.014 718.6964,-60.5683 725.076,-57.6872\"/>\n",
       "</g>\n",
       "<!-- 11 -->\n",
       "<g id=\"node12\" class=\"node\">\n",
       "<title>11</title>\n",
       "<polygon fill=\"none\" stroke=\"#000000\" points=\"935.9209,-50 795.0264,-50 795.0264,0 935.9209,0 935.9209,-50\"/>\n",
       "<text text-anchor=\"middle\" x=\"865.4736\" y=\"-34.8\" font-family=\"Times,serif\" font-size=\"14.00\" fill=\"#000000\">mse = 5402484173.87</text>\n",
       "<text text-anchor=\"middle\" x=\"865.4736\" y=\"-20.8\" font-family=\"Times,serif\" font-size=\"14.00\" fill=\"#000000\">samples = 247</text>\n",
       "<text text-anchor=\"middle\" x=\"865.4736\" y=\"-6.8\" font-family=\"Times,serif\" font-size=\"14.00\" fill=\"#000000\">value = 248440.7</text>\n",
       "</g>\n",
       "<!-- 9&#45;&gt;11 -->\n",
       "<g id=\"edge11\" class=\"edge\">\n",
       "<title>9&#45;&gt;11</title>\n",
       "<path fill=\"none\" stroke=\"#000000\" d=\"M788.7384,-85.9947C800.7689,-76.432 813.9425,-65.9606 825.9265,-56.4349\"/>\n",
       "<polygon fill=\"#000000\" stroke=\"#000000\" points=\"828.354,-58.9764 834.0044,-50.014 823.9982,-53.4966 828.354,-58.9764\"/>\n",
       "</g>\n",
       "<!-- 13 -->\n",
       "<g id=\"node14\" class=\"node\">\n",
       "<title>13</title>\n",
       "<polygon fill=\"none\" stroke=\"#000000\" points=\"1094.9209,-50 954.0264,-50 954.0264,0 1094.9209,0 1094.9209,-50\"/>\n",
       "<text text-anchor=\"middle\" x=\"1024.4736\" y=\"-34.8\" font-family=\"Times,serif\" font-size=\"14.00\" fill=\"#000000\">mse = 665945833.333</text>\n",
       "<text text-anchor=\"middle\" x=\"1024.4736\" y=\"-20.8\" font-family=\"Times,serif\" font-size=\"14.00\" fill=\"#000000\">samples = 6</text>\n",
       "<text text-anchor=\"middle\" x=\"1024.4736\" y=\"-6.8\" font-family=\"Times,serif\" font-size=\"14.00\" fill=\"#000000\">value = 313550.0</text>\n",
       "</g>\n",
       "<!-- 12&#45;&gt;13 -->\n",
       "<g id=\"edge13\" class=\"edge\">\n",
       "<title>12&#45;&gt;13</title>\n",
       "<path fill=\"none\" stroke=\"#000000\" d=\"M1024.4736,-85.9947C1024.4736,-77.6273 1024.4736,-68.5643 1024.4736,-60.0478\"/>\n",
       "<polygon fill=\"#000000\" stroke=\"#000000\" points=\"1027.9737,-60.014 1024.4736,-50.014 1020.9737,-60.0141 1027.9737,-60.014\"/>\n",
       "</g>\n",
       "<!-- 14 -->\n",
       "<g id=\"node15\" class=\"node\">\n",
       "<title>14</title>\n",
       "<polygon fill=\"none\" stroke=\"#000000\" points=\"1253.9209,-50 1113.0264,-50 1113.0264,0 1253.9209,0 1253.9209,-50\"/>\n",
       "<text text-anchor=\"middle\" x=\"1183.4736\" y=\"-34.8\" font-family=\"Times,serif\" font-size=\"14.00\" fill=\"#000000\">mse = 13245647218.5</text>\n",
       "<text text-anchor=\"middle\" x=\"1183.4736\" y=\"-20.8\" font-family=\"Times,serif\" font-size=\"14.00\" fill=\"#000000\">samples = 30</text>\n",
       "<text text-anchor=\"middle\" x=\"1183.4736\" y=\"-6.8\" font-family=\"Times,serif\" font-size=\"14.00\" fill=\"#000000\">value = 406406.733</text>\n",
       "</g>\n",
       "<!-- 12&#45;&gt;14 -->\n",
       "<g id=\"edge14\" class=\"edge\">\n",
       "<title>12&#45;&gt;14</title>\n",
       "<path fill=\"none\" stroke=\"#000000\" d=\"M1079.1924,-85.9947C1096.3275,-75.9723 1115.1692,-64.9517 1132.0675,-55.0678\"/>\n",
       "<polygon fill=\"#000000\" stroke=\"#000000\" points=\"1133.8429,-58.0841 1140.7077,-50.014 1130.3087,-52.0418 1133.8429,-58.0841\"/>\n",
       "</g>\n",
       "</g>\n",
       "</svg>\n"
      ],
      "text/plain": [
       "<graphviz.files.Source at 0x11ce42e90>"
      ]
     },
     "execution_count": 176,
     "metadata": {},
     "output_type": "execute_result"
    }
   ],
   "source": [
    "import graphviz\n",
    "from sklearn import tree\n",
    "\n",
    "dot_data = tree.export_graphviz(tree_reg, out_file=None, feature_names=(X_train.columns))  \n",
    "graph = graphviz.Source(dot_data)  \n",
    "graph"
   ]
  },
  {
   "cell_type": "code",
   "execution_count": 177,
   "metadata": {},
   "outputs": [
    {
     "name": "stdout",
     "output_type": "stream",
     "text": [
      "[21925 47552 26741 26644 29469 29881 85364 26665 25338 38211]\n",
      "Mean: 35,780; Std: 17,964\n"
     ]
    }
   ],
   "source": [
    "scores = cross_val_score(lin_reg, X_train, y_train, scoring='neg_mean_squared_error', cv=10)\n",
    "rmse_scores = np.sqrt(-scores)\n",
    "print(rmse_scores.astype(int))\n",
    "print('Mean: {:,.0f}; Std: {:,.0f}'.format(rmse_scores.mean(), rmse_scores.std()))"
   ]
  },
  {
   "cell_type": "code",
   "execution_count": 178,
   "metadata": {},
   "outputs": [
    {
     "name": "stdout",
     "output_type": "stream",
     "text": [
      "[29003 32815 33163 25203 19450 28685 61236 29154 25813 33337]\n",
      "Mean: 31,787; Std: 10,621\n"
     ]
    }
   ],
   "source": [
    "forest_reg = RandomForestRegressor()\n",
    "forest_reg.fit(X_train, y_train)\n",
    "scores = cross_val_score(forest_reg, X_train, y_train, scoring='neg_mean_squared_error', cv=10)\n",
    "rmse_scores = np.sqrt(-scores)\n",
    "print(rmse_scores.astype(int))\n",
    "print('Mean: {:,.0f}; Std: {:,.0f}'.format(rmse_scores.mean(), rmse_scores.std()))"
   ]
  },
  {
   "cell_type": "code",
   "execution_count": 179,
   "metadata": {
    "scrolled": true
   },
   "outputs": [
    {
     "name": "stdout",
     "output_type": "stream",
     "text": [
      "RandomForestRegressor(bootstrap=True, criterion='mse', max_depth=8,\n",
      "           max_features=40, max_leaf_nodes=None, min_impurity_decrease=0.0,\n",
      "           min_impurity_split=None, min_samples_leaf=10,\n",
      "           min_samples_split=2, min_weight_fraction_leaf=0.0,\n",
      "           n_estimators=90, n_jobs=1, oob_score=False, random_state=None,\n",
      "           verbose=0, warm_start=False)\n",
      "{'max_features': 40, 'n_estimators': 90, 'bootstrap': True, 'max_depth': 8, 'min_samples_leaf': 10}\n"
     ]
    }
   ],
   "source": [
    "# grid search\n",
    "forest_reg = RandomForestRegressor()\n",
    "param_grid = [\n",
    "    {'bootstrap': [True], 'n_estimators': [10, 30, 90],\n",
    "     'max_features': [20, 40, X_train.shape[1]],\n",
    "     'max_depth': [4, 6, 8], 'min_samples_leaf': [10]},\n",
    "]\n",
    "grid_search = GridSearchCV(forest_reg, param_grid, cv=5, scoring='neg_mean_squared_error', n_jobs=-1)\n",
    "grid_search.fit(X_train, y_train)\n",
    "print(grid_search.best_estimator_)\n",
    "print(grid_search.best_params_)"
   ]
  },
  {
   "cell_type": "code",
   "execution_count": 180,
   "metadata": {},
   "outputs": [
    {
     "name": "stdout",
     "output_type": "stream",
     "text": [
      "[25769 33024 33893 27931 28460 23628 45881 42922 26245 45464]\n",
      "Mean: 33,322; Std: 8,072\n"
     ]
    }
   ],
   "source": [
    "scores = cross_val_score(grid_search.best_estimator_, X_train, y_train, scoring='neg_mean_squared_error', cv=10)\n",
    "rmse_scores = np.sqrt(-scores)\n",
    "print(rmse_scores.astype(int))\n",
    "print('Mean: {:,.0f}; Std: {:,.0f}'.format(rmse_scores.mean(), rmse_scores.std()))"
   ]
  },
  {
   "cell_type": "code",
   "execution_count": 181,
   "metadata": {},
   "outputs": [],
   "source": [
    "y_test_predictions = grid_search.best_estimator_.predict(X_test_prepped)"
   ]
  },
  {
   "cell_type": "code",
   "execution_count": 192,
   "metadata": {},
   "outputs": [
    {
     "data": {
      "text/plain": [
       "[(0.2543375297525036, 'OverallQual'),\n",
       " (0.15934285508603716, 'GrLivArea'),\n",
       " (0.08696737118582867, 'TotalBsmtSF'),\n",
       " (0.07614220704181339, 'GarageCars'),\n",
       " (0.06395053045962597, 'GarageArea'),\n",
       " (0.05041066160286636, '1stFlrSF'),\n",
       " (0.0501185003421195, 'YearBuilt'),\n",
       " (0.041943112935185815, 'ExterQual_TA'),\n",
       " (0.021095059991692828, 'FullBath'),\n",
       " (0.01985145749723343, 'GarageYrBlt')]"
      ]
     },
     "execution_count": 192,
     "metadata": {},
     "output_type": "execute_result"
    }
   ],
   "source": [
    "sorted(zip(grid_search.best_estimator_.feature_importances_, X_train.columns), reverse=True)[:10]"
   ]
  },
  {
   "cell_type": "code",
   "execution_count": null,
   "metadata": {},
   "outputs": [],
   "source": [
    "kaggle_X_test_prepared = full_pipeline.transform(kaggle_test)\n",
    "kaggle_y_test_predictions = grid_search.best_estimator_.predict(kaggle_X_test_prepared)"
   ]
  },
  {
   "cell_type": "code",
   "execution_count": 204,
   "metadata": {},
   "outputs": [],
   "source": [
    "pd.DataFrame({'Id': raw_test.Id, 'SalePrice': y_test_predictions}).to_csv('submission.csv', index=False)"
   ]
  },
  {
   "cell_type": "code",
   "execution_count": null,
   "metadata": {},
   "outputs": [],
   "source": [
    "cols = ['LotArea', 'LotFrontage', 'YrSold', 'YearBuilt', 'KitchenQual', 'SalePrice',\n",
    "        'FullBath', 'HalfBath', 'BedroomAbvGr', 'GrLivArea']\n",
    "pd.plotting.scatter_matrix(train[cols], figsize=(15, 10));"
   ]
  },
  {
   "cell_type": "code",
   "execution_count": null,
   "metadata": {},
   "outputs": [],
   "source": [
    "# Dimensionality Reduction via PCA\n",
    "\n",
    "pca = PCA(n_components=0.95)\n",
    "pca.fit(X_train_prepped)\n",
    "plt.plot(np.cumsum(pca.explained_variance_ratio_))"
   ]
  },
  {
   "cell_type": "code",
   "execution_count": 46,
   "metadata": {},
   "outputs": [
    {
     "name": "stdout",
     "output_type": "stream",
     "text": [
      "(1460, 45)\n"
     ]
    },
    {
     "ename": "NameError",
     "evalue": "name 'pca' is not defined",
     "output_type": "error",
     "traceback": [
      "\u001b[0;31m---------------------------------------------------------------------------\u001b[0m",
      "\u001b[0;31mNameError\u001b[0m                                 Traceback (most recent call last)",
      "\u001b[0;32m<ipython-input-46-edc7253ac1a0>\u001b[0m in \u001b[0;36m<module>\u001b[0;34m()\u001b[0m\n\u001b[1;32m      1\u001b[0m \u001b[0;32mprint\u001b[0m\u001b[0;34m(\u001b[0m\u001b[0mX_train_prepped\u001b[0m\u001b[0;34m.\u001b[0m\u001b[0mshape\u001b[0m\u001b[0;34m)\u001b[0m\u001b[0;34m\u001b[0m\u001b[0m\n\u001b[0;32m----> 2\u001b[0;31m \u001b[0mpca\u001b[0m\u001b[0;34m.\u001b[0m\u001b[0mfit_transform\u001b[0m\u001b[0;34m(\u001b[0m\u001b[0mX_train_prepped\u001b[0m\u001b[0;34m)\u001b[0m\u001b[0;34m.\u001b[0m\u001b[0mshape\u001b[0m\u001b[0;34m\u001b[0m\u001b[0m\n\u001b[0m",
      "\u001b[0;31mNameError\u001b[0m: name 'pca' is not defined"
     ]
    }
   ],
   "source": [
    "print(X_train_prepped.shape)\n",
    "pca.fit_transform(X_train_prepped).shape"
   ]
  },
  {
   "cell_type": "markdown",
   "metadata": {},
   "source": [
    "TensorFlow\n",
    "---------"
   ]
  },
  {
   "cell_type": "code",
   "execution_count": 47,
   "metadata": {},
   "outputs": [],
   "source": [
    "def generate_data(dataframe):\n",
    "    train_x = dataframe[['GrLivArea', 'YearBuilt', 'FullBath', 'HalfBath', 'BedroomAbvGr', 'LotArea']]\n",
    "    train_x_standardized = (train_x - train_x.mean()) / train_x.std()\n",
    "    neighborhood_one_hot = pd.get_dummies(dataframe[['Neighborhood', 'BldgType']])\n",
    "    subclass_one_hot = pd.get_dummies(dataframe[['MSSubClass']].astype('str'))\n",
    "    return pd.concat([train_x_standardized, neighborhood_one_hot, subclass_one_hot], axis=1)"
   ]
  },
  {
   "cell_type": "code",
   "execution_count": 57,
   "metadata": {},
   "outputs": [
    {
     "name": "stdout",
     "output_type": "stream",
     "text": [
      "Epoch: 0;\t cost: 39,157,616,640.0\n",
      "Epoch: 20;\t cost: 13,342,103,552.0\n",
      "Epoch: 40;\t cost: 8,432,761,344.0\n",
      "Epoch: 60;\t cost: 7,395,713,536.0\n",
      "Epoch: 80;\t cost: 7,096,340,992.0\n",
      "Epoch: 100;\t cost: 6,952,637,440.0\n",
      "Epoch: 120;\t cost: 6,853,057,536.0\n",
      "Epoch: 140;\t cost: 6,773,721,600.0\n",
      "Epoch: 160;\t cost: 6,707,813,888.0\n",
      "Epoch: 180;\t cost: 6,652,303,872.0\n",
      "Epoch: 199;\t cost: 6,607,314,432.0\n"
     ]
    },
    {
     "data": {
      "image/png": "[encoded data removed]",
      "text/plain": [
       "<Figure size 432x288 with 1 Axes>"
      ]
     },
     "metadata": {},
     "output_type": "display_data"
    }
   ],
   "source": [
    "tf.set_random_seed(123)\n",
    "\n",
    "training_epochs = 200\n",
    "data = generate_data(raw_X_train) \n",
    "X_train, X_test, y_train, y_test = train_test_split(data, raw_train['SalePrice'])\n",
    "#training_data = train[['GrLivArea', 'BedroomAbvGr', 'FullBath', 'LotArea']]\n",
    "#training_data = (training_data - training_data.mean()) / training_data.std()\n",
    "#training_data = neighborhood_one_hot\n",
    "#training_data = train_x_standardized\n",
    "#training_data = subclass_one_hot\n",
    "n_rows, n_features = X_train.shape\n",
    "training_costs = []\n",
    "learning_rate = 0.01\n",
    "\n",
    "\n",
    "g = tf.Graph()\n",
    "with g.as_default():\n",
    "    tf_x = tf.placeholder(dtype=tf.float32, shape=(None), name='tf_x')\n",
    "    tf_y = tf.placeholder(dtype=tf.float32, shape=(None), name='tf_y')\n",
    "    weight = tf.Variable(tf.random_normal(shape=(n_features, 1)), name='weight')\n",
    "    bias = tf.Variable(tf.random_normal([1]), name='bias')\n",
    "    y_hat = tf.add(tf.matmul(tf_x, weight), bias, name='y_hat')\n",
    "    cost = tf.reduce_mean(tf.square(tf_y - y_hat), name='cost')\n",
    "    optimizer = tf.train.GradientDescentOptimizer(learning_rate=learning_rate)\n",
    "    training_operation = optimizer.minimize(cost, name='training_operation')\n",
    "\n",
    "feed_dict = {tf_x: X_train, tf_y: y_train}\n",
    "\n",
    "with tf.Session(graph=g) as sess:\n",
    "    sess.run(tf.global_variables_initializer())\n",
    "    for epoch in range(training_epochs):\n",
    "        c, _, w, b = sess.run([cost, training_operation, weight, bias], feed_dict=feed_dict)\n",
    "        if np.isnan(c) or np.isinf(c):\n",
    "            print(\"\\n======aborted========\")\n",
    "            break\n",
    "        training_costs.append(c)\n",
    "        if epoch % (training_epochs / 10) == 0:\n",
    "            print('Epoch: {};\\t cost: {:,}'.format(epoch, c))\n",
    "print('Epoch: {};\\t cost: {:,}'.format(epoch, c))\n",
    "plt.plot(training_costs);"
   ]
  },
  {
   "cell_type": "code",
   "execution_count": 53,
   "metadata": {},
   "outputs": [
    {
     "name": "stdout",
     "output_type": "stream",
     "text": [
      "51\n",
      "[106407.414]\n",
      "51\n"
     ]
    }
   ],
   "source": [
    "#177739.16\n",
    "print(n_features)\n",
    "print(b)\n",
    "print(len(w))"
   ]
  },
  {
   "cell_type": "code",
   "execution_count": 58,
   "metadata": {},
   "outputs": [
    {
     "data": {
      "text/plain": [
       "array([[179993.59942697],\n",
       "       [194617.21408636],\n",
       "       [184275.79647258],\n",
       "       ...,\n",
       "       [174538.52133979],\n",
       "       [174217.58648244],\n",
       "       [193824.52695168]])"
      ]
     },
     "execution_count": 58,
     "metadata": {},
     "output_type": "execute_result"
    }
   ],
   "source": [
    "np.matmul(X_train, w) + b"
   ]
  },
  {
   "cell_type": "code",
   "execution_count": 60,
   "metadata": {},
   "outputs": [
    {
     "data": {
      "text/plain": [
       "6228752335.746789"
      ]
     },
     "execution_count": 60,
     "metadata": {},
     "output_type": "execute_result"
    }
   ],
   "source": [
    "mean_squared_error(y_true=y_train, y_pred=np.matmul(X_train, w) + b)"
   ]
  },
  {
   "cell_type": "code",
   "execution_count": 55,
   "metadata": {},
   "outputs": [
    {
     "data": {
      "text/plain": [
       "array([[192536.31013009],\n",
       "       [187807.2691366 ],\n",
       "       [183942.93215234],\n",
       "       [186113.68684647],\n",
       "       [152286.73308601]])"
      ]
     },
     "execution_count": 55,
     "metadata": {},
     "output_type": "execute_result"
    }
   ],
   "source": [
    "test_data = generate_data(raw_test)\n",
    "test_data.loc[1358, 'MSSubClass_160'] = 1\n",
    "test_data.drop(['MSSubClass_150'], axis=1, inplace=True)\n",
    "predictions = np.matmul(test_data, w) + b\n",
    "predictions[:5]\n",
    "mean_squared_error()"
   ]
  },
  {
   "cell_type": "code",
   "execution_count": null,
   "metadata": {},
   "outputs": [],
   "source": [
    "pd.DataFrame({'Id': test.Id, 'SalePrice': predictions.T[0]}).to_csv('submission.csv', index=False)"
   ]
  },
  {
   "cell_type": "code",
   "execution_count": null,
   "metadata": {},
   "outputs": [],
   "source": [
    "!cat submission.csv"
   ]
  },
  {
   "cell_type": "code",
   "execution_count": null,
   "metadata": {},
   "outputs": [],
   "source": [
    "for test_column in generate_data(test).columns:\n",
    "    if test_column not in generate_data(train).columns:\n",
    "        print(test_column)"
   ]
  },
  {
   "cell_type": "code",
   "execution_count": null,
   "metadata": {},
   "outputs": [],
   "source": [
    "#y_hat = tf.add(tf.matmul(tf_x, weight), bias, name='y_hat')\n",
    "np.matmul(training_data, w)\n",
    "plt.hist((train['SalePrice'] - predictions.T[0])**2, bins=50, log=True);"
   ]
  },
  {
   "cell_type": "code",
   "execution_count": 61,
   "metadata": {},
   "outputs": [
    {
     "name": "stderr",
     "output_type": "stream",
     "text": [
      "Downloading Cal. housing from https://ndownloader.figshare.com/files/5976036 to /Users/asturges/scikit_learn_data\n"
     ]
    },
    {
     "data": {
      "text/plain": [
       "(20640, 8)"
      ]
     },
     "execution_count": 61,
     "metadata": {},
     "output_type": "execute_result"
    }
   ],
   "source": [
    "from sklearn.datasets import fetch_california_housing\n",
    "housing = fetch_california_housing()\n",
    "m, n = housing.data.shape"
   ]
  },
  {
   "cell_type": "code",
   "execution_count": 93,
   "metadata": {},
   "outputs": [
    {
     "name": "stdout",
     "output_type": "stream",
     "text": [
      "(20640,)\n",
      "(20640, 1)\n"
     ]
    }
   ],
   "source": [
    "print(housing.target.shape)\n",
    "print(housing.target.reshape(-1, 1).shape)"
   ]
  },
  {
   "cell_type": "code",
   "execution_count": 95,
   "metadata": {},
   "outputs": [],
   "source": [
    "housing_data_plus_bias = np.c_[np.ones((m, 1)), housing.data]\n",
    "X = tf.constant(housing_data_plus_bias, dtype=tf.float32, name='X')\n",
    "y = tf.constant(housing.target.reshape(-1, 1), dtype=tf.float32, name='y')\n",
    "XT = tf.transpose(X)\n",
    "theta = tf.matmul(tf.matmul(tf.matrix_inverse(tf.matmul(XT, X)), XT), y)\n",
    "with tf.Session() as sess:\n",
    "    theta_value = theta.eval()"
   ]
  },
  {
   "cell_type": "code",
   "execution_count": 87,
   "metadata": {},
   "outputs": [
    {
     "data": {
      "text/plain": [
       "array([[ 8.09910853e+00,  2.83354174e+00,  1.41519207e+00, ...,\n",
       "        -1.73226724e-01,  1.69324883e-01, -1.53608658e-01],\n",
       "       [ 1.42387340e+00, -7.85749130e-01, -1.15277799e+00, ...,\n",
       "        -9.87845241e-02,  5.32260499e-03, -1.60945901e-01],\n",
       "       [-7.39957211e-02, -2.46117510e+00, -3.16638142e-01, ...,\n",
       "         7.15039407e-02,  3.18798776e-02, -2.81731350e-01],\n",
       "       ...,\n",
       "       [-2.04031957e+00, -4.31157893e-01,  1.05803090e+00, ...,\n",
       "        -2.82582986e-02,  2.60174763e-01,  4.76786712e-01],\n",
       "       [-2.75052873e+00,  1.36321136e+00,  7.25558608e-01, ...,\n",
       "        -2.90911991e-01,  6.61165850e-02, -1.72743010e-01],\n",
       "       [-1.56236291e+00, -1.01188643e+00,  5.12983180e-01, ...,\n",
       "         4.44509730e-01, -1.92230571e-01, -2.15530169e-01]])"
      ]
     },
     "execution_count": 87,
     "metadata": {},
     "output_type": "execute_result"
    }
   ],
   "source": [
    "m, nX_train"
   ]
  }
 ],
 "metadata": {
  "kernelspec": {
   "display_name": "Python 2",
   "language": "python",
   "name": "python2"
  },
  "language_info": {
   "codemirror_mode": {
    "name": "ipython",
    "version": 2
   },
   "file_extension": ".py",
   "mimetype": "text/x-python",
   "name": "python",
   "nbconvert_exporter": "python",
   "pygments_lexer": "ipython2",
   "version": "2.7.14"
  }
 },
 "nbformat": 4,
 "nbformat_minor": 2
}
