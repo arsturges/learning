{
 "cells": [
  {
   "cell_type": "code",
   "execution_count": 1,
   "metadata": {
    "collapsed": false
   },
   "outputs": [],
   "source": [
    "from __future__ import print_function, absolute_import, division\n",
    "import pandas as pd\n",
    "import numpy as np\n",
    "import matplotlib.pyplot as plt\n",
    "%matplotlib inline\n",
    "import seaborn as sns\n",
    "from sklearn.ensemble import RandomForestClassifier\n",
    "import sklearn\n",
    "import scipy"
   ]
  },
  {
   "cell_type": "code",
   "execution_count": 2,
   "metadata": {
    "collapsed": false
   },
   "outputs": [],
   "source": [
    "train = pd.read_csv(\"train.csv\")\n",
    "test = pd.read_csv(\"test.csv\")\n",
    "full = pd.concat([train, test])"
   ]
  },
  {
   "cell_type": "code",
   "execution_count": 3,
   "metadata": {
    "collapsed": false
   },
   "outputs": [
    {
     "name": "stdout",
     "output_type": "stream",
     "text": [
      "<class 'pandas.core.frame.DataFrame'>\n",
      "Int64Index: 1309 entries, 0 to 417\n",
      "Data columns (total 12 columns):\n",
      "Age            1046 non-null float64\n",
      "Cabin          295 non-null object\n",
      "Embarked       1307 non-null object\n",
      "Fare           1308 non-null float64\n",
      "Name           1309 non-null object\n",
      "Parch          1309 non-null int64\n",
      "PassengerId    1309 non-null int64\n",
      "Pclass         1309 non-null int64\n",
      "Sex            1309 non-null object\n",
      "SibSp          1309 non-null int64\n",
      "Survived       891 non-null float64\n",
      "Ticket         1309 non-null object\n",
      "dtypes: float64(3), int64(4), object(5)\n",
      "memory usage: 132.9+ KB\n"
     ]
    }
   ],
   "source": [
    "full.info() # need to fill in Age, Cabin, Embarked, and Fare"
   ]
  },
  {
   "cell_type": "markdown",
   "metadata": {},
   "source": [
    "First, try two benchmarks:\n",
    "1. Predict that everyone dies\n",
    "1. Predict that all the men die and all the women survive\n",
    "Let's see what scores we get."
   ]
  },
  {
   "cell_type": "code",
   "execution_count": 4,
   "metadata": {
    "collapsed": false
   },
   "outputs": [
    {
     "name": "stdout",
     "output_type": "stream",
     "text": [
      "Accuracy on training set: 0.616161616162\n",
      "Accuracy on Kaggle test submission: 0.62679\n"
     ]
    },
    {
     "data": {
      "text/html": [
       "<div>\n",
       "<table border=\"1\" class=\"dataframe\">\n",
       "  <thead>\n",
       "    <tr style=\"text-align: right;\">\n",
       "      <th></th>\n",
       "      <th>PassengerId</th>\n",
       "      <th>Survived</th>\n",
       "    </tr>\n",
       "  </thead>\n",
       "  <tbody>\n",
       "    <tr>\n",
       "      <th>0</th>\n",
       "      <td>892</td>\n",
       "      <td>0</td>\n",
       "    </tr>\n",
       "    <tr>\n",
       "      <th>1</th>\n",
       "      <td>893</td>\n",
       "      <td>0</td>\n",
       "    </tr>\n",
       "    <tr>\n",
       "      <th>2</th>\n",
       "      <td>894</td>\n",
       "      <td>0</td>\n",
       "    </tr>\n",
       "    <tr>\n",
       "      <th>3</th>\n",
       "      <td>895</td>\n",
       "      <td>0</td>\n",
       "    </tr>\n",
       "    <tr>\n",
       "      <th>4</th>\n",
       "      <td>896</td>\n",
       "      <td>0</td>\n",
       "    </tr>\n",
       "  </tbody>\n",
       "</table>\n",
       "</div>"
      ],
      "text/plain": [
       "   PassengerId  Survived\n",
       "0          892         0\n",
       "1          893         0\n",
       "2          894         0\n",
       "3          895         0\n",
       "4          896         0"
      ]
     },
     "execution_count": 4,
     "metadata": {},
     "output_type": "execute_result"
    }
   ],
   "source": [
    "# Everone dies:\n",
    "submission = pd.DataFrame({\n",
    "        \"PassengerId\": test[\"PassengerId\"],\n",
    "        \"Survived\": 0})\n",
    "submission.to_csv(\"titanic_submission_all_died.csv\", index=False)\n",
    "print(\"Accuracy on training set:\", (train['Survived'] == 0).sum()/train.shape[0])\n",
    "print(\"Accuracy on Kaggle test submission:\", 0.62679) # Pretty good for just a few lines of code.\n",
    "submission.head()"
   ]
  },
  {
   "cell_type": "code",
   "execution_count": 5,
   "metadata": {
    "collapsed": false
   },
   "outputs": [
    {
     "name": "stdout",
     "output_type": "stream",
     "text": [
      "Accuracy on training set: 0.786756453423\n",
      "Accuracy on Kaggle submission: 0.76555\n"
     ]
    },
    {
     "data": {
      "text/html": [
       "<div>\n",
       "<table border=\"1\" class=\"dataframe\">\n",
       "  <thead>\n",
       "    <tr style=\"text-align: right;\">\n",
       "      <th></th>\n",
       "      <th>PassengerId</th>\n",
       "      <th>Survived</th>\n",
       "    </tr>\n",
       "  </thead>\n",
       "  <tbody>\n",
       "    <tr>\n",
       "      <th>0</th>\n",
       "      <td>892</td>\n",
       "      <td>0</td>\n",
       "    </tr>\n",
       "    <tr>\n",
       "      <th>1</th>\n",
       "      <td>893</td>\n",
       "      <td>1</td>\n",
       "    </tr>\n",
       "    <tr>\n",
       "      <th>2</th>\n",
       "      <td>894</td>\n",
       "      <td>0</td>\n",
       "    </tr>\n",
       "    <tr>\n",
       "      <th>3</th>\n",
       "      <td>895</td>\n",
       "      <td>0</td>\n",
       "    </tr>\n",
       "    <tr>\n",
       "      <th>4</th>\n",
       "      <td>896</td>\n",
       "      <td>1</td>\n",
       "    </tr>\n",
       "  </tbody>\n",
       "</table>\n",
       "</div>"
      ],
      "text/plain": [
       "   PassengerId  Survived\n",
       "0          892         0\n",
       "1          893         1\n",
       "2          894         0\n",
       "3          895         0\n",
       "4          896         1"
      ]
     },
     "execution_count": 5,
     "metadata": {},
     "output_type": "execute_result"
    }
   ],
   "source": [
    "# All men die, all women survive:\n",
    "submission = pd.DataFrame({\n",
    "        \"PassengerId\": test[\"PassengerId\"],\n",
    "        \"Survived\": test.Sex.apply(lambda gender: 1 if gender=='female' else 0)})\n",
    "submission.to_csv(\"titanic_submission_women_survive.csv\", index=False)\n",
    "print(\"Accuracy on training set:\", (train['Survived'] == train.Sex.apply(lambda gender: 1 if gender=='female' else 0)).sum()/train.shape[0])\n",
    "print(\"Accuracy on Kaggle submission:\", 0.76555) # It turns out this is pretty hard to beat. \n",
    "submission.head()"
   ]
  },
  {
   "cell_type": "markdown",
   "metadata": {},
   "source": [
    "# Fill in missing values"
   ]
  },
  {
   "cell_type": "code",
   "execution_count": 6,
   "metadata": {
    "collapsed": false
   },
   "outputs": [
    {
     "name": "stdout",
     "output_type": "stream",
     "text": [
      "Training set:\n",
      "<class 'pandas.core.frame.DataFrame'>\n",
      "RangeIndex: 891 entries, 0 to 890\n",
      "Data columns (total 12 columns):\n",
      "PassengerId    891 non-null int64\n",
      "Survived       891 non-null int64\n",
      "Pclass         891 non-null int64\n",
      "Name           891 non-null object\n",
      "Sex            891 non-null object\n",
      "Age            714 non-null float64\n",
      "SibSp          891 non-null int64\n",
      "Parch          891 non-null int64\n",
      "Ticket         891 non-null object\n",
      "Fare           891 non-null float64\n",
      "Cabin          204 non-null object\n",
      "Embarked       889 non-null object\n",
      "dtypes: float64(2), int64(5), object(5)\n",
      "memory usage: 83.6+ KB\n",
      "________________________________________\n",
      "Test set:\n",
      "<class 'pandas.core.frame.DataFrame'>\n",
      "RangeIndex: 418 entries, 0 to 417\n",
      "Data columns (total 11 columns):\n",
      "PassengerId    418 non-null int64\n",
      "Pclass         418 non-null int64\n",
      "Name           418 non-null object\n",
      "Sex            418 non-null object\n",
      "Age            332 non-null float64\n",
      "SibSp          418 non-null int64\n",
      "Parch          418 non-null int64\n",
      "Ticket         418 non-null object\n",
      "Fare           417 non-null float64\n",
      "Cabin          91 non-null object\n",
      "Embarked       418 non-null object\n",
      "dtypes: float64(2), int64(4), object(5)\n",
      "memory usage: 36.0+ KB\n"
     ]
    }
   ],
   "source": [
    "print(\"Training set:\")\n",
    "train.info() # tells us we have missing data in Age, Cabin, and Embarked\n",
    "print(\"________________________________________\")\n",
    "print(\"Test set:\")\n",
    "test.info() # we have missing info in Age, Fare, and Cabin"
   ]
  },
  {
   "cell_type": "markdown",
   "metadata": {},
   "source": [
    "# Title: Add a \"title\" column (thank you others for the idea)\n",
    "Also, add a \"short_title\" to encode fewer categories."
   ]
  },
  {
   "cell_type": "markdown",
   "metadata": {},
   "source": []
  },
  {
   "cell_type": "code",
   "execution_count": 7,
   "metadata": {
    "collapsed": false
   },
   "outputs": [
    {
     "data": {
      "text/plain": [
       "array(['Mr', 'Mrs', 'Miss', 'Master', 'Sir', 'Lady'], dtype=object)"
      ]
     },
     "execution_count": 7,
     "metadata": {},
     "output_type": "execute_result"
    }
   ],
   "source": [
    "full['title'] = full.Name.str.replace('(.*, )|(\\\\..*)', '')\n",
    "full.title.unique()\n",
    "title_dict = {'Mr': 'Mr', 'Mrs': 'Mrs', 'Miss': 'Miss', 'Master': 'Master', 'Don': 'Mr',\n",
    "              'Rev': 'Mr', 'Dr': 'Mr', 'Mme': 'Mrs', 'Ms': 'Mrs',\n",
    "              'Major': 'Mr', 'Lady': 'Mrs', 'Sir': 'Mr', 'Mlle': 'Miss', 'Col': 'Mr',\n",
    "              'Capt': 'Mr', 'the Countess': 'Mrs', 'Jonkheer': 'Mr', 'Dona': 'Mrs'}\n",
    "title_dict2 = {'Mr': 'Mr', 'Mrs': 'Mrs', 'Miss': 'Miss', 'Master': 'Master', 'Don': 'Sir',\n",
    "              'Rev': 'Mr', 'Dr': 'Mr', 'Mme': 'Mrs', 'Ms': 'Mrs',\n",
    "              'Major': 'Mr', 'Lady': 'Lady', 'Sir': 'Sir', 'Mlle': 'Miss', 'Col': 'Mr',\n",
    "              'Capt': 'Mr', 'the Countess': 'Lady', 'Jonkheer': 'Sir', 'Dona': 'Lady'}\n",
    "full['short_title'] = full.title.apply(lambda title: title_dict2[title])\n",
    "full[['Name', 'title', 'short_title']]\n",
    "full['short_title'].unique()"
   ]
  },
  {
   "cell_type": "markdown",
   "metadata": {},
   "source": [
    "# Age: Use title to fill in missing ages."
   ]
  },
  {
   "cell_type": "code",
   "execution_count": 8,
   "metadata": {
    "collapsed": false
   },
   "outputs": [
    {
     "data": {
      "text/plain": [
       "<matplotlib.text.Text at 0x1139d0510>"
      ]
     },
     "execution_count": 8,
     "metadata": {},
     "output_type": "execute_result"
    },
    {
     "data": {
      "image/png": "[encoded data removed]",
      "text/plain": [
       "<matplotlib.figure.Figure at 0x1138f0510>"
      ]
     },
     "metadata": {},
     "output_type": "display_data"
    }
   ],
   "source": [
    "# Show count and mean age by title:\n",
    "fig, axes = plt.subplots(2, 1, figsize=(16, 8), sharex=False)\n",
    "#secondary_x = axes[0].twinx()\n",
    "full.groupby(by='title').mean()['Age'].sort_values().plot(kind='bar', ax=axes[0])\n",
    "full.groupby(by='title').count()['Age'].sort_values().plot(kind='bar', ax=axes[1])\n",
    "axes[0].set_title(\"Mean age by title\", fontsize=15)\n",
    "axes[1].set_title(\"Count by title\", fontsize=15)\n",
    "plt.tight_layout()\n",
    "axes[0].set_xlabel('')\n",
    "axes[1].set_xlabel('')"
   ]
  },
  {
   "cell_type": "code",
   "execution_count": 9,
   "metadata": {
    "collapsed": false
   },
   "outputs": [
    {
     "data": {
      "text/plain": [
       "<matplotlib.axes._subplots.AxesSubplot at 0x1138f08d0>"
      ]
     },
     "execution_count": 9,
     "metadata": {},
     "output_type": "execute_result"
    },
    {
     "data": {
      "image/png": "[encoded data removed]",
      "text/plain": [
       "<matplotlib.figure.Figure at 0x11390b250>"
      ]
     },
     "metadata": {},
     "output_type": "display_data"
    }
   ],
   "source": [
    "# By title, how many are missing ages?\n",
    "# Assign the doctor the mean age of all the Doctors. Assign the young masters the mean age of the young masters. Etc.\n",
    "full[pd.isnull(full.Age)].groupby(by='title').count()['Fare'].plot(kind='bar')"
   ]
  },
  {
   "cell_type": "code",
   "execution_count": 10,
   "metadata": {
    "collapsed": false
   },
   "outputs": [],
   "source": [
    "# Loop over each title with missing age values, and assign those passengers the age of the mean of the rest:\n",
    "for title in full[pd.isnull(full.Age)].title.unique():\n",
    "    full.loc[(full['title'] == title) & pd.isnull(full.Age), 'Age'] = full[full['title'] == title].Age.mean()"
   ]
  },
  {
   "cell_type": "markdown",
   "metadata": {},
   "source": [
    "# Fare: Fill in missing fares with averages grouped by cabin class and embarkment"
   ]
  },
  {
   "cell_type": "code",
   "execution_count": 11,
   "metadata": {
    "collapsed": false
   },
   "outputs": [
    {
     "data": {
      "text/html": [
       "<div>\n",
       "<table border=\"1\" class=\"dataframe\">\n",
       "  <thead>\n",
       "    <tr style=\"text-align: right;\">\n",
       "      <th></th>\n",
       "      <th></th>\n",
       "      <th>Fare</th>\n",
       "    </tr>\n",
       "    <tr>\n",
       "      <th>Pclass</th>\n",
       "      <th>Embarked</th>\n",
       "      <th></th>\n",
       "    </tr>\n",
       "  </thead>\n",
       "  <tbody>\n",
       "    <tr>\n",
       "      <th rowspan=\"3\" valign=\"top\">1</th>\n",
       "      <th>C</th>\n",
       "      <td>76.7292</td>\n",
       "    </tr>\n",
       "    <tr>\n",
       "      <th>Q</th>\n",
       "      <td>90.0000</td>\n",
       "    </tr>\n",
       "    <tr>\n",
       "      <th>S</th>\n",
       "      <td>52.0000</td>\n",
       "    </tr>\n",
       "    <tr>\n",
       "      <th rowspan=\"3\" valign=\"top\">2</th>\n",
       "      <th>C</th>\n",
       "      <td>15.3146</td>\n",
       "    </tr>\n",
       "    <tr>\n",
       "      <th>Q</th>\n",
       "      <td>12.3500</td>\n",
       "    </tr>\n",
       "    <tr>\n",
       "      <th>S</th>\n",
       "      <td>15.3750</td>\n",
       "    </tr>\n",
       "    <tr>\n",
       "      <th rowspan=\"3\" valign=\"top\">3</th>\n",
       "      <th>C</th>\n",
       "      <td>7.8958</td>\n",
       "    </tr>\n",
       "    <tr>\n",
       "      <th>Q</th>\n",
       "      <td>7.7500</td>\n",
       "    </tr>\n",
       "    <tr>\n",
       "      <th>S</th>\n",
       "      <td>8.0500</td>\n",
       "    </tr>\n",
       "  </tbody>\n",
       "</table>\n",
       "</div>"
      ],
      "text/plain": [
       "                    Fare\n",
       "Pclass Embarked         \n",
       "1      C         76.7292\n",
       "       Q         90.0000\n",
       "       S         52.0000\n",
       "2      C         15.3146\n",
       "       Q         12.3500\n",
       "       S         15.3750\n",
       "3      C          7.8958\n",
       "       Q          7.7500\n",
       "       S          8.0500"
      ]
     },
     "execution_count": 11,
     "metadata": {},
     "output_type": "execute_result"
    }
   ],
   "source": [
    "full.groupby(by=['Pclass', 'Embarked']).median()[['Fare']]"
   ]
  },
  {
   "cell_type": "code",
   "execution_count": 12,
   "metadata": {
    "collapsed": true
   },
   "outputs": [],
   "source": [
    "# Fill it in: (NB: I realized later there's only one passenger missing fare, so I didn't need to loop)\n",
    "for pclass in [1, 2, 3]:\n",
    "    for embarked in ['C', 'S', 'Q']:\n",
    "        median_fare = full[(full.Pclass==pclass) & (full.Embarked==embarked)].Fare.median()\n",
    "        full.loc[(pd.isnull(full.Fare)) & (full.Pclass==pclass) & (full.Embarked==embarked), 'Fare'] = median_fare"
   ]
  },
  {
   "cell_type": "markdown",
   "metadata": {},
   "source": [
    "# Embarked: Group by Fare, Pclass, assign to mean of that group"
   ]
  },
  {
   "cell_type": "code",
   "execution_count": 13,
   "metadata": {
    "collapsed": false
   },
   "outputs": [
    {
     "data": {
      "text/plain": [
       "<matplotlib.axes._subplots.AxesSubplot at 0x11397da90>"
      ]
     },
     "execution_count": 13,
     "metadata": {},
     "output_type": "execute_result"
    },
    {
     "data": {
      "image/png": "[encoded data removed]",
      "text/plain": [
       "<matplotlib.figure.Figure at 0x113b9d490>"
      ]
     },
     "metadata": {},
     "output_type": "display_data"
    }
   ],
   "source": [
    "full.groupby(by='Embarked').count()['title'].plot(kind='bar')"
   ]
  },
  {
   "cell_type": "code",
   "execution_count": 14,
   "metadata": {
    "collapsed": false
   },
   "outputs": [
    {
     "data": {
      "text/html": [
       "<div>\n",
       "<table border=\"1\" class=\"dataframe\">\n",
       "  <thead>\n",
       "    <tr style=\"text-align: right;\">\n",
       "      <th></th>\n",
       "      <th>Age</th>\n",
       "      <th>Cabin</th>\n",
       "      <th>Embarked</th>\n",
       "      <th>Fare</th>\n",
       "      <th>Name</th>\n",
       "      <th>Parch</th>\n",
       "      <th>PassengerId</th>\n",
       "      <th>Pclass</th>\n",
       "      <th>Sex</th>\n",
       "      <th>SibSp</th>\n",
       "      <th>Survived</th>\n",
       "      <th>Ticket</th>\n",
       "      <th>title</th>\n",
       "      <th>short_title</th>\n",
       "    </tr>\n",
       "  </thead>\n",
       "  <tbody>\n",
       "    <tr>\n",
       "      <th>61</th>\n",
       "      <td>38.0</td>\n",
       "      <td>B28</td>\n",
       "      <td>NaN</td>\n",
       "      <td>80.0</td>\n",
       "      <td>Icard, Miss. Amelie</td>\n",
       "      <td>0</td>\n",
       "      <td>62</td>\n",
       "      <td>1</td>\n",
       "      <td>female</td>\n",
       "      <td>0</td>\n",
       "      <td>1.0</td>\n",
       "      <td>113572</td>\n",
       "      <td>Miss</td>\n",
       "      <td>Miss</td>\n",
       "    </tr>\n",
       "    <tr>\n",
       "      <th>829</th>\n",
       "      <td>62.0</td>\n",
       "      <td>B28</td>\n",
       "      <td>NaN</td>\n",
       "      <td>80.0</td>\n",
       "      <td>Stone, Mrs. George Nelson (Martha Evelyn)</td>\n",
       "      <td>0</td>\n",
       "      <td>830</td>\n",
       "      <td>1</td>\n",
       "      <td>female</td>\n",
       "      <td>0</td>\n",
       "      <td>1.0</td>\n",
       "      <td>113572</td>\n",
       "      <td>Mrs</td>\n",
       "      <td>Mrs</td>\n",
       "    </tr>\n",
       "  </tbody>\n",
       "</table>\n",
       "</div>"
      ],
      "text/plain": [
       "      Age Cabin Embarked  Fare                                       Name  \\\n",
       "61   38.0   B28      NaN  80.0                        Icard, Miss. Amelie   \n",
       "829  62.0   B28      NaN  80.0  Stone, Mrs. George Nelson (Martha Evelyn)   \n",
       "\n",
       "     Parch  PassengerId  Pclass     Sex  SibSp  Survived  Ticket title  \\\n",
       "61       0           62       1  female      0       1.0  113572  Miss   \n",
       "829      0          830       1  female      0       1.0  113572   Mrs   \n",
       "\n",
       "    short_title  \n",
       "61         Miss  \n",
       "829         Mrs  "
      ]
     },
     "execution_count": 14,
     "metadata": {},
     "output_type": "execute_result"
    }
   ],
   "source": [
    "full[pd.isnull(full.Embarked)]"
   ]
  },
  {
   "cell_type": "code",
   "execution_count": 15,
   "metadata": {
    "collapsed": false
   },
   "outputs": [
    {
     "data": {
      "text/plain": [
       "<matplotlib.lines.Line2D at 0x114605f90>"
      ]
     },
     "execution_count": 15,
     "metadata": {},
     "output_type": "execute_result"
    },
    {
     "data": {
      "image/png": "[encoded data removed]",
      "text/plain": [
       "<matplotlib.figure.Figure at 0x1144d3e90>"
      ]
     },
     "metadata": {},
     "output_type": "display_data"
    }
   ],
   "source": [
    "# A box plot of fares paid by first-class passengers from each of the three ports shows that\n",
    "# $80 would be a reasonable fare for either C or Q. But Q has few passengers in total, so we'll go with 'C'\n",
    "fig, ax = plt.subplots(1, 1, figsize=(16, 5))\n",
    "sns.boxplot(y='Embarked', x='Fare', data=full[full.Pclass==1], ax=ax)\n",
    "ax.axvline(80)"
   ]
  },
  {
   "cell_type": "markdown",
   "metadata": {},
   "source": [
    "# All missing values filled in. "
   ]
  },
  {
   "cell_type": "markdown",
   "metadata": {},
   "source": [
    "# Create categorical variables"
   ]
  },
  {
   "cell_type": "code",
   "execution_count": 16,
   "metadata": {
    "collapsed": false
   },
   "outputs": [
    {
     "data": {
      "text/plain": [
       "'from sklearn import preprocessing\\nlabel_encoder = preprocessing.LabelEncoder()\\nfor category in \\'Embarked\\', \\'Sex\\', \\'title\\':\\n    label_encoder.fit(full[category])\\n    print(\"\\'{}\\' variables:\".format(category), list(label_encoder.classes_))\\n    full[category + \"_categ\"] = label_encoder.transform(full[category])'"
      ]
     },
     "execution_count": 16,
     "metadata": {},
     "output_type": "execute_result"
    }
   ],
   "source": [
    "\"\"\"from sklearn import preprocessing\n",
    "label_encoder = preprocessing.LabelEncoder()\n",
    "for category in 'Embarked', 'Sex', 'title':\n",
    "    label_encoder.fit(full[category])\n",
    "    print(\"'{}' variables:\".format(category), list(label_encoder.classes_))\n",
    "    full[category + \"_categ\"] = label_encoder.transform(full[category])\"\"\""
   ]
  },
  {
   "cell_type": "markdown",
   "metadata": {},
   "source": [
    "# Create dummy variables.\n",
    "We're not going to add any more features, but we do need to convert our categorical variables to dummy variables."
   ]
  },
  {
   "cell_type": "code",
   "execution_count": 17,
   "metadata": {
    "collapsed": false,
    "scrolled": true
   },
   "outputs": [
    {
     "data": {
      "text/html": [
       "<div>\n",
       "<table border=\"1\" class=\"dataframe\">\n",
       "  <thead>\n",
       "    <tr style=\"text-align: right;\">\n",
       "      <th></th>\n",
       "      <th>Age</th>\n",
       "      <th>Cabin</th>\n",
       "      <th>Fare</th>\n",
       "      <th>Name</th>\n",
       "      <th>Parch</th>\n",
       "      <th>PassengerId</th>\n",
       "      <th>SibSp</th>\n",
       "      <th>Survived</th>\n",
       "      <th>Ticket</th>\n",
       "      <th>Pclass_1</th>\n",
       "      <th>...</th>\n",
       "      <th>title_Ms</th>\n",
       "      <th>title_Rev</th>\n",
       "      <th>title_Sir</th>\n",
       "      <th>title_the Countess</th>\n",
       "      <th>short_title_Lady</th>\n",
       "      <th>short_title_Master</th>\n",
       "      <th>short_title_Miss</th>\n",
       "      <th>short_title_Mr</th>\n",
       "      <th>short_title_Mrs</th>\n",
       "      <th>short_title_Sir</th>\n",
       "    </tr>\n",
       "  </thead>\n",
       "  <tbody>\n",
       "    <tr>\n",
       "      <th>0</th>\n",
       "      <td>22.0</td>\n",
       "      <td>NaN</td>\n",
       "      <td>7.2500</td>\n",
       "      <td>Braund, Mr. Owen Harris</td>\n",
       "      <td>0</td>\n",
       "      <td>1</td>\n",
       "      <td>1</td>\n",
       "      <td>0.0</td>\n",
       "      <td>A/5 21171</td>\n",
       "      <td>0.0</td>\n",
       "      <td>...</td>\n",
       "      <td>0.0</td>\n",
       "      <td>0.0</td>\n",
       "      <td>0.0</td>\n",
       "      <td>0.0</td>\n",
       "      <td>0.0</td>\n",
       "      <td>0.0</td>\n",
       "      <td>0.0</td>\n",
       "      <td>1.0</td>\n",
       "      <td>0.0</td>\n",
       "      <td>0.0</td>\n",
       "    </tr>\n",
       "    <tr>\n",
       "      <th>1</th>\n",
       "      <td>38.0</td>\n",
       "      <td>C85</td>\n",
       "      <td>71.2833</td>\n",
       "      <td>Cumings, Mrs. John Bradley (Florence Briggs Th...</td>\n",
       "      <td>0</td>\n",
       "      <td>2</td>\n",
       "      <td>1</td>\n",
       "      <td>1.0</td>\n",
       "      <td>PC 17599</td>\n",
       "      <td>1.0</td>\n",
       "      <td>...</td>\n",
       "      <td>0.0</td>\n",
       "      <td>0.0</td>\n",
       "      <td>0.0</td>\n",
       "      <td>0.0</td>\n",
       "      <td>0.0</td>\n",
       "      <td>0.0</td>\n",
       "      <td>0.0</td>\n",
       "      <td>0.0</td>\n",
       "      <td>1.0</td>\n",
       "      <td>0.0</td>\n",
       "    </tr>\n",
       "    <tr>\n",
       "      <th>2</th>\n",
       "      <td>26.0</td>\n",
       "      <td>NaN</td>\n",
       "      <td>7.9250</td>\n",
       "      <td>Heikkinen, Miss. Laina</td>\n",
       "      <td>0</td>\n",
       "      <td>3</td>\n",
       "      <td>0</td>\n",
       "      <td>1.0</td>\n",
       "      <td>STON/O2. 3101282</td>\n",
       "      <td>0.0</td>\n",
       "      <td>...</td>\n",
       "      <td>0.0</td>\n",
       "      <td>0.0</td>\n",
       "      <td>0.0</td>\n",
       "      <td>0.0</td>\n",
       "      <td>0.0</td>\n",
       "      <td>0.0</td>\n",
       "      <td>1.0</td>\n",
       "      <td>0.0</td>\n",
       "      <td>0.0</td>\n",
       "      <td>0.0</td>\n",
       "    </tr>\n",
       "  </tbody>\n",
       "</table>\n",
       "<p>3 rows × 41 columns</p>\n",
       "</div>"
      ],
      "text/plain": [
       "    Age Cabin     Fare                                               Name  \\\n",
       "0  22.0   NaN   7.2500                            Braund, Mr. Owen Harris   \n",
       "1  38.0   C85  71.2833  Cumings, Mrs. John Bradley (Florence Briggs Th...   \n",
       "2  26.0   NaN   7.9250                             Heikkinen, Miss. Laina   \n",
       "\n",
       "   Parch  PassengerId  SibSp  Survived            Ticket  Pclass_1  \\\n",
       "0      0            1      1       0.0         A/5 21171       0.0   \n",
       "1      0            2      1       1.0          PC 17599       1.0   \n",
       "2      0            3      0       1.0  STON/O2. 3101282       0.0   \n",
       "\n",
       "        ...         title_Ms  title_Rev  title_Sir  title_the Countess  \\\n",
       "0       ...              0.0        0.0        0.0                 0.0   \n",
       "1       ...              0.0        0.0        0.0                 0.0   \n",
       "2       ...              0.0        0.0        0.0                 0.0   \n",
       "\n",
       "   short_title_Lady  short_title_Master  short_title_Miss  short_title_Mr  \\\n",
       "0               0.0                 0.0               0.0             1.0   \n",
       "1               0.0                 0.0               0.0             0.0   \n",
       "2               0.0                 0.0               1.0             0.0   \n",
       "\n",
       "   short_title_Mrs  short_title_Sir  \n",
       "0              0.0              0.0  \n",
       "1              1.0              0.0  \n",
       "2              0.0              0.0  \n",
       "\n",
       "[3 rows x 41 columns]"
      ]
     },
     "execution_count": 17,
     "metadata": {},
     "output_type": "execute_result"
    }
   ],
   "source": [
    "columns = [\"Pclass\", \"Sex\", \"Embarked\", \"title\", \"short_title\"]\n",
    "full = pd.get_dummies(data=full, columns=columns)\n",
    "full.head(3)"
   ]
  },
  {
   "cell_type": "code",
   "execution_count": 18,
   "metadata": {
    "collapsed": false
   },
   "outputs": [
    {
     "name": "stdout",
     "output_type": "stream",
     "text": [
      "<class 'pandas.core.frame.DataFrame'>\n",
      "Int64Index: 1309 entries, 0 to 417\n",
      "Data columns (total 41 columns):\n",
      "Age                   1309 non-null float64\n",
      "Cabin                 295 non-null object\n",
      "Fare                  1309 non-null float64\n",
      "Name                  1309 non-null object\n",
      "Parch                 1309 non-null int64\n",
      "PassengerId           1309 non-null int64\n",
      "SibSp                 1309 non-null int64\n",
      "Survived              891 non-null float64\n",
      "Ticket                1309 non-null object\n",
      "Pclass_1              1309 non-null float64\n",
      "Pclass_2              1309 non-null float64\n",
      "Pclass_3              1309 non-null float64\n",
      "Sex_female            1309 non-null float64\n",
      "Sex_male              1309 non-null float64\n",
      "Embarked_C            1309 non-null float64\n",
      "Embarked_Q            1309 non-null float64\n",
      "Embarked_S            1309 non-null float64\n",
      "title_Capt            1309 non-null float64\n",
      "title_Col             1309 non-null float64\n",
      "title_Don             1309 non-null float64\n",
      "title_Dona            1309 non-null float64\n",
      "title_Dr              1309 non-null float64\n",
      "title_Jonkheer        1309 non-null float64\n",
      "title_Lady            1309 non-null float64\n",
      "title_Major           1309 non-null float64\n",
      "title_Master          1309 non-null float64\n",
      "title_Miss            1309 non-null float64\n",
      "title_Mlle            1309 non-null float64\n",
      "title_Mme             1309 non-null float64\n",
      "title_Mr              1309 non-null float64\n",
      "title_Mrs             1309 non-null float64\n",
      "title_Ms              1309 non-null float64\n",
      "title_Rev             1309 non-null float64\n",
      "title_Sir             1309 non-null float64\n",
      "title_the Countess    1309 non-null float64\n",
      "short_title_Lady      1309 non-null float64\n",
      "short_title_Master    1309 non-null float64\n",
      "short_title_Miss      1309 non-null float64\n",
      "short_title_Mr        1309 non-null float64\n",
      "short_title_Mrs       1309 non-null float64\n",
      "short_title_Sir       1309 non-null float64\n",
      "dtypes: float64(35), int64(3), object(3)\n",
      "memory usage: 429.5+ KB\n"
     ]
    }
   ],
   "source": [
    "full.info()"
   ]
  },
  {
   "cell_type": "markdown",
   "metadata": {},
   "source": [
    "# Now break out the training set and the test set again"
   ]
  },
  {
   "cell_type": "code",
   "execution_count": 19,
   "metadata": {
    "collapsed": false
   },
   "outputs": [
    {
     "name": "stdout",
     "output_type": "stream",
     "text": [
      "<class 'pandas.core.frame.DataFrame'>\n",
      "Int64Index: 891 entries, 0 to 890\n",
      "Data columns (total 40 columns):\n",
      "Age                   891 non-null float64\n",
      "Fare                  891 non-null float64\n",
      "Name                  891 non-null object\n",
      "Parch                 891 non-null int64\n",
      "PassengerId           891 non-null int64\n",
      "SibSp                 891 non-null int64\n",
      "Survived              891 non-null float64\n",
      "Ticket                891 non-null object\n",
      "Pclass_1              891 non-null float64\n",
      "Pclass_2              891 non-null float64\n",
      "Pclass_3              891 non-null float64\n",
      "Sex_female            891 non-null float64\n",
      "Sex_male              891 non-null float64\n",
      "Embarked_C            891 non-null float64\n",
      "Embarked_Q            891 non-null float64\n",
      "Embarked_S            891 non-null float64\n",
      "title_Capt            891 non-null float64\n",
      "title_Col             891 non-null float64\n",
      "title_Don             891 non-null float64\n",
      "title_Dona            891 non-null float64\n",
      "title_Dr              891 non-null float64\n",
      "title_Jonkheer        891 non-null float64\n",
      "title_Lady            891 non-null float64\n",
      "title_Major           891 non-null float64\n",
      "title_Master          891 non-null float64\n",
      "title_Miss            891 non-null float64\n",
      "title_Mlle            891 non-null float64\n",
      "title_Mme             891 non-null float64\n",
      "title_Mr              891 non-null float64\n",
      "title_Mrs             891 non-null float64\n",
      "title_Ms              891 non-null float64\n",
      "title_Rev             891 non-null float64\n",
      "title_Sir             891 non-null float64\n",
      "title_the Countess    891 non-null float64\n",
      "short_title_Lady      891 non-null float64\n",
      "short_title_Master    891 non-null float64\n",
      "short_title_Miss      891 non-null float64\n",
      "short_title_Mr        891 non-null float64\n",
      "short_title_Mrs       891 non-null float64\n",
      "short_title_Sir       891 non-null float64\n",
      "dtypes: float64(35), int64(3), object(2)\n",
      "memory usage: 285.4+ KB\n",
      "<class 'pandas.core.frame.DataFrame'>\n",
      "Int64Index: 418 entries, 0 to 417\n",
      "Data columns (total 39 columns):\n",
      "Age                   418 non-null float64\n",
      "Fare                  418 non-null float64\n",
      "Name                  418 non-null object\n",
      "Parch                 418 non-null int64\n",
      "PassengerId           418 non-null int64\n",
      "SibSp                 418 non-null int64\n",
      "Ticket                418 non-null object\n",
      "Pclass_1              418 non-null float64\n",
      "Pclass_2              418 non-null float64\n",
      "Pclass_3              418 non-null float64\n",
      "Sex_female            418 non-null float64\n",
      "Sex_male              418 non-null float64\n",
      "Embarked_C            418 non-null float64\n",
      "Embarked_Q            418 non-null float64\n",
      "Embarked_S            418 non-null float64\n",
      "title_Capt            418 non-null float64\n",
      "title_Col             418 non-null float64\n",
      "title_Don             418 non-null float64\n",
      "title_Dona            418 non-null float64\n",
      "title_Dr              418 non-null float64\n",
      "title_Jonkheer        418 non-null float64\n",
      "title_Lady            418 non-null float64\n",
      "title_Major           418 non-null float64\n",
      "title_Master          418 non-null float64\n",
      "title_Miss            418 non-null float64\n",
      "title_Mlle            418 non-null float64\n",
      "title_Mme             418 non-null float64\n",
      "title_Mr              418 non-null float64\n",
      "title_Mrs             418 non-null float64\n",
      "title_Ms              418 non-null float64\n",
      "title_Rev             418 non-null float64\n",
      "title_Sir             418 non-null float64\n",
      "title_the Countess    418 non-null float64\n",
      "short_title_Lady      418 non-null float64\n",
      "short_title_Master    418 non-null float64\n",
      "short_title_Miss      418 non-null float64\n",
      "short_title_Mr        418 non-null float64\n",
      "short_title_Mrs       418 non-null float64\n",
      "short_title_Sir       418 non-null float64\n",
      "dtypes: float64(34), int64(3), object(2)\n",
      "memory usage: 130.6+ KB\n"
     ]
    }
   ],
   "source": [
    "full = full.drop([\"Cabin\"], axis=1)  # we just don't need it--too many missing values\n",
    "test = full[pd.isnull(full.Survived)]\n",
    "train = full[pd.notnull(full.Survived)]\n",
    "test = test.drop([\"Survived\"], axis=1)\n",
    "train.info()\n",
    "test.info()"
   ]
  },
  {
   "cell_type": "markdown",
   "metadata": {},
   "source": [
    "# Now do the logistic regression"
   ]
  },
  {
   "cell_type": "code",
   "execution_count": 34,
   "metadata": {
    "collapsed": false
   },
   "outputs": [
    {
     "data": {
      "text/plain": [
       "['Age',\n",
       " 'Fare',\n",
       " 'Pclass_2',\n",
       " 'Pclass_3',\n",
       " 'Embarked_C',\n",
       " 'Embarked_Q',\n",
       " 'title_Capt',\n",
       " 'title_Col',\n",
       " 'title_Don',\n",
       " 'title_Dona',\n",
       " 'title_Dr',\n",
       " 'title_Jonkheer',\n",
       " 'title_Lady',\n",
       " 'title_Major',\n",
       " 'title_Master',\n",
       " 'title_Miss',\n",
       " 'title_Mlle',\n",
       " 'title_Mrs',\n",
       " 'title_Ms',\n",
       " 'title_Rev',\n",
       " 'title_Sir',\n",
       " 'title_the Countess']"
      ]
     },
     "execution_count": 34,
     "metadata": {},
     "output_type": "execute_result"
    }
   ],
   "source": [
    "\"\"\"\n",
    "Leave out these baselines:\n",
    "* Pclass_1\n",
    "* Sex_male\n",
    "* Embarked_S\n",
    "* title_Mr\n",
    "So a Male Mr in first class embarked at S is the baseline.\n",
    "\n",
    "Looks like title captures enough gender information, so actually we can drop the \"Sex\" column altogether.\n",
    "\"\"\"\n",
    "\n",
    "cols_to_use = ['Age', 'Fare',\n",
    "               'Pclass_2', 'Pclass_3',\n",
    "               #'Sex_female',\n",
    "               'Embarked_C', 'Embarked_Q',\n",
    "               'title_Capt', 'title_Col', 'title_Don', 'title_Dona', 'title_Dr', 'title_Jonkheer',\n",
    "               'title_Lady', 'title_Major', 'title_Master', 'title_Miss', 'title_Mlle', 'title_Mrs',\n",
    "               'title_Ms',  'title_Rev', 'title_Sir', 'title_the Countess']\n",
    "\n",
    "\"\"\"cols_to_use = ['Age', 'Fare',\n",
    "               'Pclass_2', 'Pclass_3',\n",
    "               #'Sex_female',\n",
    "               'Embarked_C', 'Embarked_Q',\n",
    "               'title_Master', 'title_Miss', 'title_Mrs', # These seem to be too restrictive. Try adding in royalty.\n",
    "              ]\n",
    "\n",
    "cols_to_use = ['Age', 'Fare',\n",
    "               'Pclass_2', 'Pclass_3',\n",
    "               #'Sex_female',\n",
    "               'Embarked_C', 'Embarked_Q',\n",
    "               'title_Miss', 'title_Master', \n",
    "               'title_Mrs', #'title_Mr',\n",
    "               'title_Lady', 'title_Sir', \n",
    "              ]\"\"\"\n",
    "\n",
    "X_train = train[cols_to_use]\n",
    "y_train = train['Survived']\n",
    "X_test = test[cols_to_use]\n",
    "cols_to_use"
   ]
  },
  {
   "cell_type": "code",
   "execution_count": 21,
   "metadata": {
    "collapsed": true
   },
   "outputs": [],
   "source": [
    "X_train = train.drop(['PassengerId', 'Name', 'Ticket', 'Survived'], axis=1) # drop string columns and 'survived'\n",
    "y_train = train['Survived']\n",
    "X_test = test.drop(['PassengerId', 'Name', 'Ticket'], axis=1)"
   ]
  },
  {
   "cell_type": "code",
   "execution_count": 22,
   "metadata": {
    "collapsed": false
   },
   "outputs": [
    {
     "name": "stdout",
     "output_type": "stream",
     "text": [
      "0.835016835017\n"
     ]
    },
    {
     "data": {
      "text/plain": [
       "0.83501683501683499"
      ]
     },
     "execution_count": 22,
     "metadata": {},
     "output_type": "execute_result"
    }
   ],
   "source": [
    "from sklearn.linear_model import LogisticRegression\n",
    "logreg = LogisticRegression()\n",
    "logreg.fit(X_train, y_train)\n",
    "y_predicted = logreg.predict(X_test)\n",
    "print((logreg.predict(X_train)==y_train).sum()/len(y_train)) # what percent did it get right in training set?\n",
    "logreg.score(X_train, y_train)"
   ]
  },
  {
   "cell_type": "code",
   "execution_count": 23,
   "metadata": {
    "collapsed": false
   },
   "outputs": [
    {
     "name": "stdout",
     "output_type": "stream",
     "text": [
      "(418, 2)\n"
     ]
    },
    {
     "data": {
      "text/html": [
       "<div>\n",
       "<table border=\"1\" class=\"dataframe\">\n",
       "  <thead>\n",
       "    <tr style=\"text-align: right;\">\n",
       "      <th></th>\n",
       "      <th>PassengerId</th>\n",
       "      <th>Survived</th>\n",
       "    </tr>\n",
       "  </thead>\n",
       "  <tbody>\n",
       "    <tr>\n",
       "      <th>0</th>\n",
       "      <td>892</td>\n",
       "      <td>0</td>\n",
       "    </tr>\n",
       "    <tr>\n",
       "      <th>1</th>\n",
       "      <td>893</td>\n",
       "      <td>1</td>\n",
       "    </tr>\n",
       "    <tr>\n",
       "      <th>2</th>\n",
       "      <td>894</td>\n",
       "      <td>0</td>\n",
       "    </tr>\n",
       "    <tr>\n",
       "      <th>3</th>\n",
       "      <td>895</td>\n",
       "      <td>0</td>\n",
       "    </tr>\n",
       "    <tr>\n",
       "      <th>4</th>\n",
       "      <td>896</td>\n",
       "      <td>1</td>\n",
       "    </tr>\n",
       "  </tbody>\n",
       "</table>\n",
       "</div>"
      ],
      "text/plain": [
       "   PassengerId  Survived\n",
       "0          892         0\n",
       "1          893         1\n",
       "2          894         0\n",
       "3          895         0\n",
       "4          896         1"
      ]
     },
     "execution_count": 23,
     "metadata": {},
     "output_type": "execute_result"
    }
   ],
   "source": [
    "submission = pd.DataFrame({\n",
    "        \"PassengerId\": test[\"PassengerId\"],\n",
    "        \"Survived\": y_predicted.astype(int)})\n",
    "submission.to_csv('titanic_submission_logreg.csv', index=False)\n",
    "print(submission.shape)\n",
    "submission.head()\n",
    "# This scores a 0.73206. Not good enough to beat the \"all women survive, all men die\" model."
   ]
  },
  {
   "cell_type": "markdown",
   "metadata": {},
   "source": [
    "# Try a single decision tree"
   ]
  },
  {
   "cell_type": "code",
   "execution_count": 35,
   "metadata": {
    "collapsed": false
   },
   "outputs": [
    {
     "name": "stdout",
     "output_type": "stream",
     "text": [
      "1.0\n"
     ]
    },
    {
     "data": {
      "image/png": "[encoded data removed]",
      "text/plain": [
       "<IPython.core.display.Image object>"
      ]
     },
     "execution_count": 35,
     "metadata": {},
     "output_type": "execute_result"
    }
   ],
   "source": [
    "from sklearn.tree import DecisionTreeClassifier\n",
    "dtc = DecisionTreeClassifier(max_depth=1)\n",
    "dtc.fit(X_train, y_train)\n",
    "y_predicted = dtc.predict(X_test)\n",
    "\n",
    "score = dtc.score(X_test, y_predicted)\n",
    "print(score)\n",
    "\n",
    "from IPython.display import Image\n",
    "from sklearn.externals.six import StringIO\n",
    "import pydot\n",
    "dot_data = StringIO()  \n",
    "sklearn.tree.export_graphviz(dtc, out_file=dot_data, feature_names=cols_to_use,\n",
    "                             class_names=['Dead', 'Alive'], filled=True)\n",
    "graph = pydot.graph_from_dot_data(dot_data.getvalue())  \n",
    "Image(graph[0].create_png()) "
   ]
  },
  {
   "cell_type": "code",
   "execution_count": 30,
   "metadata": {
    "collapsed": false
   },
   "outputs": [
    {
     "data": {
      "text/plain": [
       "<pydot.Dot at 0x114c4e4d0>"
      ]
     },
     "execution_count": 30,
     "metadata": {},
     "output_type": "execute_result"
    }
   ],
   "source": [
    "graph[0]"
   ]
  },
  {
   "cell_type": "code",
   "execution_count": null,
   "metadata": {
    "collapsed": false
   },
   "outputs": [],
   "source": [
    "pd.DataFrame({'feature': cols_to_use, 'importance': dtc.feature_importances_})"
   ]
  },
  {
   "cell_type": "code",
   "execution_count": null,
   "metadata": {
    "collapsed": true
   },
   "outputs": [],
   "source": []
  },
  {
   "cell_type": "markdown",
   "metadata": {},
   "source": [
    "# Try Random Forest"
   ]
  },
  {
   "cell_type": "code",
   "execution_count": null,
   "metadata": {
    "collapsed": false
   },
   "outputs": [],
   "source": [
    "random_forest = RandomForestClassifier(n_estimators=10)\n",
    "\n",
    "random_forest.fit(X_train, y_train)\n",
    "y_predicted = random_forest.predict(X_test)\n",
    "\n",
    "random_forest.score(X_train, y_train) # woah will this do well on the test set? Or is it over-fitted?"
   ]
  },
  {
   "cell_type": "code",
   "execution_count": null,
   "metadata": {
    "collapsed": false
   },
   "outputs": [],
   "source": [
    "submission = pd.DataFrame({\n",
    "        \"PassengerId\": test.dropna()[\"PassengerId\"],\n",
    "        \"Survived\": y_predicted.astype(int)})\n",
    "submission.to_csv('titanic_submission_randomforest.csv', index=False)\n",
    "submission.head()\n",
    "# Scores 0.78947! Heck yeah! Moved up more than 1200 spots on the leader board, into the top half!\n",
    "# If I change n_estimators from 10 to 100, my training score goes to 100%\n",
    "# but my actual Kaggle submission score drop to 0.77033.\n",
    "# If I change n_estimators=5, I get a score of 0.6842"
   ]
  },
  {
   "cell_type": "code",
   "execution_count": null,
   "metadata": {
    "collapsed": false
   },
   "outputs": [],
   "source": [
    "pd.Series(random_forest.feature_importances_).plot(kind='bar')"
   ]
  },
  {
   "cell_type": "markdown",
   "metadata": {},
   "source": [
    "When I ask the random_forest object to tell me what features are the most important, it says PassengerId is second most important.\n",
    "This only makes sense if passengers were logged in some non-random order.\n",
    "For example, the ship's manifest was assembled by first class cabin first. \n",
    "This is unlikely but let's check the correlation coeeficient make sure. \n",
    "If it's completely random we should see a value of 0."
   ]
  },
  {
   "cell_type": "code",
   "execution_count": null,
   "metadata": {
    "collapsed": false
   },
   "outputs": [],
   "source": [
    "scipy.stats.pearsonr(train['PassengerId'], train['Fare'])  # r = 0.012, not correlated.\n",
    "# So PassengerId is probably random and should not be included in the random forest."
   ]
  },
  {
   "cell_type": "code",
   "execution_count": null,
   "metadata": {
    "collapsed": false
   },
   "outputs": [],
   "source": [
    "# Random forest:\n",
    "feature_importance = pd.DataFrame({'feature': X_train.columns, 'importance': random_forest.feature_importances_})\n",
    "feature_importance.sort_values(by='importance', ascending=False)"
   ]
  },
  {
   "cell_type": "code",
   "execution_count": null,
   "metadata": {
    "collapsed": true
   },
   "outputs": [],
   "source": []
  }
 ],
 "metadata": {
  "kernelspec": {
   "display_name": "Python 2",
   "language": "python",
   "name": "python2"
  },
  "language_info": {
   "codemirror_mode": {
    "name": "ipython",
    "version": 2
   },
   "file_extension": ".py",
   "mimetype": "text/x-python",
   "name": "python",
   "nbconvert_exporter": "python",
   "pygments_lexer": "ipython2",
   "version": "2.7.11"
  }
 },
 "nbformat": 4,
 "nbformat_minor": 1
}
