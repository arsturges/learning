{
 "cells": [
  {
   "cell_type": "markdown",
   "metadata": {},
   "source": [
    "Chaper 14\n",
    "======="
   ]
  },
  {
   "cell_type": "code",
   "execution_count": 2,
   "metadata": {},
   "outputs": [],
   "source": [
    "import tensorflow as tf\n",
    "import numpy as np"
   ]
  },
  {
   "cell_type": "code",
   "execution_count": 7,
   "metadata": {},
   "outputs": [
    {
     "name": "stdout",
     "output_type": "stream",
     "text": [
      "Shapes: Tensor(\"Shape:0\", shape=(0,), dtype=int32), Tensor(\"Shape_1:0\", shape=(1,), dtype=int32), Tensor(\"Shape_2:0\", shape=(2,), dtype=int32)\n"
     ]
    }
   ],
   "source": [
    "g = tf.Graph()\n",
    "with g.as_default():\n",
    "    t1 = tf.constant(np.pi)\n",
    "    t2 = tf.constant([1, 2, 3, 4])\n",
    "    t3 = tf.constant([[1, 2], [3, 4]])\n",
    "    \n",
    "    r1 = tf.rank(t1)\n",
    "    r2 = tf.rank(t2)\n",
    "    r3 = tf.rank(t3)\n",
    "    \n",
    "    s1 = tf.shape(t1)\n",
    "    s2 = tf.shape(t2)\n",
    "    s3 = tf.shape(t3)\n",
    "    print('Shapes: {}, {}, {}'.format(s1, s2, s3))"
   ]
  },
  {
   "cell_type": "code",
   "execution_count": 8,
   "metadata": {},
   "outputs": [
    {
     "name": "stdout",
     "output_type": "stream",
     "text": [
      "Ranks: 0 1 2\n"
     ]
    }
   ],
   "source": [
    "with tf.Session(graph=g) as sess:\n",
    "    print('Ranks:', r1.eval(), r2.eval(), r3.eval())"
   ]
  },
  {
   "cell_type": "code",
   "execution_count": 9,
   "metadata": {},
   "outputs": [],
   "source": [
    "g = tf.Graph()\n",
    "with g.as_default():\n",
    "    a = tf.constant(1, name='a')\n",
    "    b = tf.constant(2)\n",
    "    c = tf.constant(3, name='c')\n",
    "    z = 2 * (a - b) + c"
   ]
  },
  {
   "cell_type": "code",
   "execution_count": 13,
   "metadata": {},
   "outputs": [
    {
     "name": "stdout",
     "output_type": "stream",
     "text": [
      "1\n"
     ]
    }
   ],
   "source": [
    "with tf.Session(graph=g) as sess:\n",
    "    print(sess.run(z))"
   ]
  },
  {
   "cell_type": "code",
   "execution_count": 20,
   "metadata": {},
   "outputs": [
    {
     "name": "stdout",
     "output_type": "stream",
     "text": [
      "3\n"
     ]
    }
   ],
   "source": [
    "g = tf.Graph()\n",
    "with g.as_default():\n",
    "    tf_a = tf.placeholder(tf.int32, shape=[], name='tf_a')\n",
    "    tf_b = tf.placeholder(tf.int32, shape=[], name='tf_b')\n",
    "    tf_c = tf.placeholder(tf.int32, shape=[], name='tf_c')\n",
    "    r1 = tf_a - tf_b\n",
    "    r2 = 2 * r1\n",
    "    z = r2 + tf_c\n",
    "    \n",
    "with tf.Session(graph=g) as sess:\n",
    "    feed_dict = {tf_a: 5, tf_b: 5, tf_c: 3}\n",
    "    print(sess.run(z, feed_dict=feed_dict))"
   ]
  },
  {
   "cell_type": "code",
   "execution_count": 29,
   "metadata": {},
   "outputs": [
    {
     "name": "stdout",
     "output_type": "stream",
     "text": [
      "[23.   24.75]\n"
     ]
    }
   ],
   "source": [
    "g = tf.Graph()\n",
    "with g.as_default():\n",
    "    tf_x = tf.placeholder(tf.float32, shape=[None, 2], name='tf_x')\n",
    "    x_mean = tf.reduce_mean(tf_x, axis=0, name='mean')\n",
    "    \n",
    "with tf.Session(graph=g) as sess:\n",
    "    feed_dict = {tf_x: [[1, 1], [1, 0], [100, 100], [-10, -2]]}\n",
    "    print(sess.run(x_mean, feed_dict=feed_dict)) "
   ]
  },
  {
   "cell_type": "code",
   "execution_count": 51,
   "metadata": {},
   "outputs": [
    {
     "name": "stdout",
     "output_type": "stream",
     "text": [
      "[[-0.67490554  0.8646954 ]\n",
      " [ 0.12993968 -0.43093848]]\n"
     ]
    }
   ],
   "source": [
    "g = tf.Graph()\n",
    "data = [[1, 2, 3, 4], [5, 6, 5, 6]]\n",
    "with g.as_default():\n",
    "    #w = tf.Variable(np.array(data))\n",
    "    w = tf.get_variable(name='w', shape=[2, 2])\n",
    "    init_op = tf.global_variables_initializer()\n",
    "\n",
    "with tf.Session(graph=g) as sess:\n",
    "    sess.run(init_op)\n",
    "    print(sess.run(w))"
   ]
  },
  {
   "cell_type": "code",
   "execution_count": 27,
   "metadata": {},
   "outputs": [
    {
     "data": {
      "text/plain": [
       "<matplotlib.collections.PathCollection at 0x1207cf7f0>"
      ]
     },
     "execution_count": 27,
     "metadata": {},
     "output_type": "execute_result"
    },
    {
     "data": {
      "image/png": "[encoded data removed]",
      "text/plain": [
       "<Figure size 432x288 with 1 Axes>"
      ]
     },
     "metadata": {},
     "output_type": "display_data"
    }
   ],
   "source": [
    "import matplotlib.pyplot as plt\n",
    "np.random.seed(0)\n",
    "\n",
    "def make_random_data():\n",
    "    x = np.random.uniform(low=-2, high=4, size=200)\n",
    "    y = []\n",
    "    for t in x:\n",
    "        r = np.random.normal(loc=0.0, scale=(0.5 + t*t / 3), size=None)\n",
    "        y.append(r)\n",
    "    return x, 1.726 * x - 0.84 + np.array(y)\n",
    "\n",
    "x, y = make_random_data()\n",
    "plt.scatter(x, y)"
   ]
  },
  {
   "cell_type": "code",
   "execution_count": 5,
   "metadata": {},
   "outputs": [
    {
     "name": "stdout",
     "output_type": "stream",
     "text": [
      "Epoch 0: 1.2e+01, [[-0.23591281]], 0.0009113834821619093\n",
      "Epoch 50: 8.4, [[0.19617605]], 0.025164252147078514\n",
      "Epoch 100: 6.6, [[0.4939696]], 0.018348781391978264\n",
      "Epoch 150: 5.7, [[0.70077723]], -0.007704910356551409\n",
      "Epoch 200: 5.2, [[0.84582096]], -0.04514914005994797\n",
      "Epoch 250: 5.0, [[0.9488256]], -0.08881086856126785\n",
      "Epoch 300: 4.8, [[1.0231143]], -0.13531088829040527\n",
      "Epoch 350: 4.7, [[1.0776942]], -0.18247121572494507\n",
      "Epoch 400: 4.6, [[1.1186615]], -0.22891581058502197\n",
      "Epoch 450: 4.6, [[1.1501482]], -0.27380281686782837\n"
     ]
    }
   ],
   "source": [
    "g = tf.Graph()\n",
    "with g.as_default():\n",
    "    tf.set_random_seed(123)\n",
    "    tf_x = tf.placeholder(shape=(None), dtype=tf.float32, name='tf_x')\n",
    "    tf_y = tf.placeholder(shape=(None), dtype=tf.float32, name='tf_y')\n",
    "    weight = tf.Variable(tf.random_normal(shape=(1,1), stddev=0.25), name='weight')\n",
    "    bias = tf.Variable(0.0, name='bias')\n",
    "    y_hat = tf.add(weight * tf_x, bias, name='y_hat')\n",
    "    cost = tf.reduce_mean(tf.square(tf_y - y_hat), name='cost')\n",
    "    optim = tf.train.GradientDescentOptimizer(learning_rate=0.001)\n",
    "    train_op = optim.minimize(cost, name='train_op')\n",
    "    saver = tf.train.Saver()\n",
    "    \n",
    "x_train, y_train = x[:100], y[:100]\n",
    "x_test, y_test = x[100:], y[100:]\n",
    "n_epochs = 500\n",
    "training_costs = []\n",
    "with tf.Session(graph=g) as sess:\n",
    "    sess.run(tf.global_variables_initializer())\n",
    "    for e in range(n_epochs):\n",
    "        c, _, w, b = sess.run([cost, train_op, weight, bias], feed_dict={tf_x: x_train, tf_y: y_train})\n",
    "        training_costs.append(c)\n",
    "        if not e % 50:\n",
    "            print('Epoch {}: {:0.2}, {}, {}'.format(e, c, w, b))\n",
    "    saver.save(sess, './trained-model')"
   ]
  },
  {
   "cell_type": "code",
   "execution_count": 6,
   "metadata": {},
   "outputs": [
    {
     "name": "stdout",
     "output_type": "stream",
     "text": [
      "INFO:tensorflow:Restoring parameters from ./trained-model\n"
     ]
    }
   ],
   "source": [
    "import tensorflow as tf\n",
    "g2 = tf.Graph()\n",
    "with tf.Session(graph=g2) as sess:\n",
    "    new_saver = tf.train.import_meta_graph('./trained-model.meta')\n",
    "    new_saver.restore(sess, './trained-model')\n",
    "    y_pred = sess.run('y_hat:0', feed_dict={'tf_x:0': x_test})"
   ]
  },
  {
   "cell_type": "code",
   "execution_count": 7,
   "metadata": {},
   "outputs": [
    {
     "data": {
      "text/plain": [
       "[<matplotlib.lines.Line2D at 0x11ef94f60>]"
      ]
     },
     "execution_count": 7,
     "metadata": {},
     "output_type": "execute_result"
    },
    {
     "data": {
      "image/png": "[encoded data removed]",
      "text/plain": [
       "<Figure size 432x288 with 1 Axes>"
      ]
     },
     "metadata": {},
     "output_type": "display_data"
    }
   ],
   "source": [
    "plt.plot(training_costs)"
   ]
  },
  {
   "cell_type": "code",
   "execution_count": 19,
   "metadata": {},
   "outputs": [
    {
     "name": "stdout",
     "output_type": "stream",
     "text": [
      "Tensor(\"T1:0\", shape=(3, 4), dtype=float64)\n",
      "Shape of T1 is (3, 4)\n",
      "<tf.Variable 'Variable:0' shape=(3, 4) dtype=float32_ref>\n",
      "<tf.Variable 'Variable_1:0' shape=(3,) dtype=float32_ref>\n",
      "Tensor(\"T4:0\", shape=(1, 1, 12), dtype=float64)\n",
      "Tensor(\"Reshape:0\", shape=(1, 3, 4), dtype=float64)\n",
      "[[[1.  2.  3.  3.5 4.  5.  6.  6.5 7.  8.  9.  9.5]]]\n",
      "\n",
      "[[[1.  2.  3.  3.5]\n",
      "  [4.  5.  6.  6.5]\n",
      "  [7.  8.  9.  9.5]]]\n"
     ]
    }
   ],
   "source": [
    "g = tf.Graph()\n",
    "with g.as_default():\n",
    "    arr = np.array([[1., 2., 3., 3.5], [4., 5., 6., 6.5], [7.,8.,9.,9.5]])\n",
    "    T1 = tf.constant(arr, name='T1')\n",
    "    print(T1)\n",
    "    s = T1.shape\n",
    "    print('Shape of T1 is {}'.format(s))\n",
    "    T2 = tf.Variable(tf.random_normal(shape=s))\n",
    "    print(T2)\n",
    "    T3 = tf.Variable(tf.random_normal(shape=(s.as_list()[0],)))\n",
    "    print(T3)\n",
    "    T4 = tf.reshape(T1, shape=[1, 1, -1], name='T4')\n",
    "    print(T4)\n",
    "    T5 = tf.reshape(T1, shape=[1, 3,4])\n",
    "    print(T5)\n",
    "    \n",
    "with tf.Session(graph=g) as sess:\n",
    "    print(sess.run(T4))\n",
    "    print()\n",
    "    print(sess.run(T5))"
   ]
  },
  {
   "cell_type": "code",
   "execution_count": 22,
   "metadata": {},
   "outputs": [],
   "source": [
    "def build_classifier(data, labels, n_classes=2):\n",
    "    data_shape = data.shape.as_list()\n",
    "    weights = tf.get_variable(name='weights', shape=(data_shape[1], n_classes), dtype=tf.float32)\n",
    "    bias = tf.get_variable(name='bias', initializer=tf.zeros(shape=n_classes))\n",
    "    logits = tf.add(tf.matmul(data, weights), bias, name='logits')\n",
    "    return logits, tf.nn.softmax(logits)"
   ]
  },
  {
   "cell_type": "code",
   "execution_count": 25,
   "metadata": {},
   "outputs": [],
   "source": [
    "def build_generator(data, n_hidden):\n",
    "    data_shape = data.shape.as_list()\n",
    "    w1 = tf.Variable(tf.random_normal(shape=(data_shape[1], n_hidden)), name='w1')\n",
    "    b1 = tf.Variable(tf.zeros(shape=n_hidden), name='b1')\n",
    "    hidden = tf.add(tf.matmul(data, w1), b1, name='hidden_pre_activation')\n",
    "    hidden = tf.nn.relu(hidden, 'hidden_activation')\n",
    "    w2 = tf.Variable(tf.random_normal(shape=(n_hidden, data_shape[1])), name='w2')\n",
    "    b2 = tf.Variable(tf.zeros(shape=data_shape[1]), name='w2')\n",
    "    output = tf.add(tf.matmul(hidden, w2), b2, name='output')\n",
    "    return output, tf.nn.sigmoid(output)"
   ]
  },
  {
   "cell_type": "code",
   "execution_count": 26,
   "metadata": {},
   "outputs": [],
   "source": [
    "batch_size = 64\n",
    "g = tf.Graph()\n",
    "with g.as_default():\n",
    "    tf_X = tf.placeholder(shape=(batch_size, 100), dtype=tf.float32, name='tf_X')\n",
    "    with tf.variable_scope('generator'):\n",
    "        gen_out1 = build_generator(data=tf_X, n_hidden=50)\n",
    "    with tf.variable_scope('classifier') as scope:\n",
    "        cls_out1 = build_classifier(data=tf_X, labels=tf.ones(shape=batch_size))\n",
    "        scope.reuse_variables()\n",
    "        cls_out2 = build_classifier(data=gen_out1[1], labels=tf.zeros(shape=batch_size))\n",
    "\n",
    "with tf.Session(graph=g) as sess:\n",
    "    sess.run(tf.global_variables_initializer())\n",
    "    file_writer = tf.summary.FileWriter(logdir='./logs/', graph=g)"
   ]
  }
 ],
 "metadata": {
  "kernelspec": {
   "display_name": "Python 2",
   "language": "python",
   "name": "python2"
  },
  "language_info": {
   "codemirror_mode": {
    "name": "ipython",
    "version": 2
   },
   "file_extension": ".py",
   "mimetype": "text/x-python",
   "name": "python",
   "nbconvert_exporter": "python",
   "pygments_lexer": "ipython2",
   "version": "2.7.14"
  }
 },
 "nbformat": 4,
 "nbformat_minor": 2
}
