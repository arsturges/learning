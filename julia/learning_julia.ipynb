{
 "cells": [
  {
   "cell_type": "code",
   "execution_count": 1,
   "metadata": {
    "collapsed": false
   },
   "outputs": [
    {
     "data": {
      "text/plain": [
       "4"
      ]
     },
     "execution_count": 1,
     "metadata": {},
     "output_type": "execute_result"
    }
   ],
   "source": [
    "2+2"
   ]
  },
  {
   "cell_type": "markdown",
   "metadata": {},
   "source": [
    "# Functions\n",
    "General form:\n",
    "```\n",
    "function functionname(argumentlist)\n",
    "    # function body\n",
    "    # functino body\n",
    "    # function body\n",
    "    return value(s)\n",
    "end\n",
    "```\n",
    "Function names are `lowercasenospaces`. `return`ing is optional. By default the last expression is returned. "
   ]
  },
  {
   "cell_type": "code",
   "execution_count": 6,
   "metadata": {
    "collapsed": false
   },
   "outputs": [
    {
     "name": "stdout",
     "output_type": "stream",
     "text": [
      "Andrew is cooler than doug\n"
     ]
    },
    {
     "data": {
      "text/plain": [
       "0.4927912082084298"
      ]
     },
     "execution_count": 6,
     "metadata": {},
     "output_type": "execute_result"
    }
   ],
   "source": [
    "function whoiscooler(name)\n",
    "    println(\"Andrew is cooler than $name\")\n",
    "    return rand()\n",
    "    end\n",
    "\n",
    "who_is_cooler(\"doug\")"
   ]
  },
  {
   "cell_type": "markdown",
   "metadata": {},
   "source": [
    "You can pass in multiple arguments, and even catch arbitrary args similar to Python's `*args` construct, which in Julia is written `args...` (the word 'args' plus three dots). The `...` operator is called the splat operator."
   ]
  },
  {
   "cell_type": "code",
   "execution_count": 15,
   "metadata": {
    "collapsed": false
   },
   "outputs": [
    {
     "name": "stdout",
     "output_type": "stream",
     "text": [
      "1 2 (3,4,5)\n"
     ]
    }
   ],
   "source": [
    "function multiargs(a, b, args...)\n",
    "    println(\"$a $b $args\")\n",
    "end\n",
    "\n",
    "multiargs(1, 2, 3,4, 5)"
   ]
  },
  {
   "cell_type": "markdown",
   "metadata": {},
   "source": [
    "Functions can return multiple values:"
   ]
  },
  {
   "cell_type": "code",
   "execution_count": 16,
   "metadata": {
    "collapsed": false
   },
   "outputs": [
    {
     "data": {
      "text/plain": [
       "(6,-1,8)"
      ]
     },
     "execution_count": 16,
     "metadata": {},
     "output_type": "execute_result"
    }
   ],
   "source": [
    "function multireturns(a, b)\n",
    "    # This function will return a tuple of three values\n",
    "    a*b, a-b, a^b\n",
    "end\n",
    "multireturns(2, 3)"
   ]
  },
  {
   "cell_type": "code",
   "execution_count": 21,
   "metadata": {
    "collapsed": false
   },
   "outputs": [
    {
     "name": "stdout",
     "output_type": "stream",
     "text": [
      "[2,3,4,-10,-10,-10,-10]"
     ]
    }
   ],
   "source": [
    "function insert_elem(arr)\n",
    "    push!(arr, -10)\n",
    "end\n",
    "#arr = [2, 3, 4]\n",
    "insert_elem(arr)\n",
    "show(arr)"
   ]
  },
  {
   "cell_type": "markdown",
   "metadata": {},
   "source": [
    "Arguments, positional arguments, keyword arguments"
   ]
  },
  {
   "cell_type": "code",
   "execution_count": 25,
   "metadata": {
    "collapsed": false
   },
   "outputs": [
    {
     "data": {
      "text/plain": [
       "3"
      ]
     },
     "execution_count": 25,
     "metadata": {},
     "output_type": "execute_result"
    }
   ],
   "source": [
    "f(a, b=5) = a+b\n",
    "f(1, 2)"
   ]
  },
  {
   "cell_type": "code",
   "execution_count": 42,
   "metadata": {
    "collapsed": false
   },
   "outputs": [
    {
     "data": {
      "text/plain": [
       "20"
      ]
     },
     "execution_count": 42,
     "metadata": {},
     "output_type": "execute_result"
    }
   ],
   "source": [
    "h(10, 1, 1)"
   ]
  },
  {
   "cell_type": "code",
   "execution_count": 46,
   "metadata": {
    "collapsed": false
   },
   "outputs": [
    {
     "data": {
      "text/plain": [
       "20"
      ]
     },
     "execution_count": 46,
     "metadata": {},
     "output_type": "execute_result"
    }
   ],
   "source": [
    "j(x; a=1, b=2) = x * (a+b)\n",
    "j(10, 1, 1)"
   ]
  },
  {
   "cell_type": "code",
   "execution_count": 40,
   "metadata": {
    "collapsed": false
   },
   "outputs": [
    {
     "data": {
      "text/plain": [
       "20"
      ]
     },
     "execution_count": 40,
     "metadata": {},
     "output_type": "execute_result"
    }
   ],
   "source": [
    "k(x; a=1, b=2) = x * (a+b)\n",
    "k(10, 1, 1)"
   ]
  },
  {
   "cell_type": "markdown",
   "metadata": {},
   "source": [
    "Here's a function with arguments. The arguments have to come in the correct order:"
   ]
  },
  {
   "cell_type": "code",
   "execution_count": 92,
   "metadata": {
    "collapsed": false
   },
   "outputs": [
    {
     "name": "stdout",
     "output_type": "stream",
     "text": [
      "Name: Andrew\n",
      "Occupation: Dancer\n",
      "Favorite color: Brown\n"
     ]
    }
   ],
   "source": [
    "function words(name, occupation, color)\n",
    "    println(\"Name: $name\")\n",
    "    println(\"Occupation: $occupation\")\n",
    "    println(\"Favorite color: $color\")\n",
    "end\n",
    "\n",
    "words(\"Andrew\", \"Dancer\", \"Brown\") # correct order"
   ]
  },
  {
   "cell_type": "markdown",
   "metadata": {},
   "source": [
    "Sometimes you want to give default values to arguments. Still, in our case, the user must pass in `name` as the first argument. The second and third arguments may or may not be named:"
   ]
  },
  {
   "cell_type": "code",
   "execution_count": 93,
   "metadata": {
    "collapsed": false
   },
   "outputs": [
    {
     "name": "stdout",
     "output_type": "stream",
     "text": [
      "Name: Andrew\n",
      "Occupation: Trucker\n",
      "Favorite color: Red\n",
      "Name: Doug\n",
      "Occupation: Florist\n",
      "Favorite color: Red\n",
      "Name: Doug\n",
      "Occupation: Florist\n",
      "Favorite color: red\n"
     ]
    }
   ],
   "source": [
    "function words(name, occupation=\"Trucker\", color=\"Red\")\n",
    "    println(\"Name: $name\")\n",
    "    println(\"Occupation: $occupation\")\n",
    "    println(\"Favorite color: $color\")\n",
    "end\n",
    "\n",
    "words(\"Andrew\") # correct order\n",
    "words(\"Doug\", \"Florist\") # arguments not named\n",
    "words(\"Doug\", occupation=\"Florist\") # default argument passed in with a name"
   ]
  },
  {
   "cell_type": "markdown",
   "metadata": {},
   "source": [
    "If we pass in the arguments out of order, the function has no way of knowing this, so it will happily do its work as if nothing is wrong:"
   ]
  },
  {
   "cell_type": "code",
   "execution_count": 94,
   "metadata": {
    "collapsed": false
   },
   "outputs": [
    {
     "name": "stdout",
     "output_type": "stream",
     "text": [
      "Name: Andrew\n",
      "Occupation: Brown\n",
      "Favorite color: Dancer\n"
     ]
    }
   ],
   "source": [
    "words(\"Andrew\", \"Brown\", \"Dancer\")"
   ]
  },
  {
   "cell_type": "markdown",
   "metadata": {},
   "source": [
    "To eliminate this problem, a programmer might want to add names to the arguments. This is called \"keyword arguments\"."
   ]
  },
  {
   "cell_type": "code",
   "execution_count": 97,
   "metadata": {
    "collapsed": false
   },
   "outputs": [
    {
     "name": "stdout",
     "output_type": "stream",
     "text": [
      "Name: Andrew\n",
      "Occupation: Trucker\n",
      "Favorite color: Red\n",
      "Name: Andrew\n",
      "Occupation: Dancer\n",
      "Favorite color: Brown\n"
     ]
    }
   ],
   "source": [
    "function words(name, occupation=\"Trucker\", color=\"Red\")\n",
    "    println(\"Name: $name\")\n",
    "    println(\"Occupation: $occupation\")\n",
    "    println(\"Favorite color: $color\")\n",
    "end\n",
    "\n",
    "words(\"Andrew\") # correct order\n",
    "\n",
    "words(\"Andrew\", color=\"Brown\", occupation=\"Dancer\") # incorrect order, but we're saved by explicitness"
   ]
  },
  {
   "cell_type": "markdown",
   "metadata": {},
   "source": [
    "To force the user to always be explicit and name arguments, we use named arguments. The way to do this is prepend with  a semicolon."
   ]
  },
  {
   "cell_type": "code",
   "execution_count": 103,
   "metadata": {
    "collapsed": false
   },
   "outputs": [
    {
     "name": "stdout",
     "output_type": "stream",
     "text": [
      "Name: Andrew\n",
      "Occupation: Trucker\n",
      "Favorite color: Red\n",
      "Name: Andrew\n",
      "Occupation: Brown\n",
      "Favorite color: Dancer\n"
     ]
    }
   ],
   "source": [
    "function words(name; occupation=\"Trucker\", color=\"Red\")\n",
    "    println(\"Name: $name\")\n",
    "    println(\"Occupation: $occupation\")\n",
    "    println(\"Favorite color: $color\")\n",
    "end\n",
    "\n",
    "words(\"Andrew\") # correct order\n",
    "\n",
    "words(\"Andrew\", \"Brown\", \"Dancer\") # incorrect order, but we're saved by explicitness"
   ]
  },
  {
   "cell_type": "code",
   "execution_count": null,
   "metadata": {
    "collapsed": true
   },
   "outputs": [],
   "source": []
  }
 ],
 "metadata": {
  "kernelspec": {
   "display_name": "Julia 0.4.5",
   "language": "julia",
   "name": "julia-0.4"
  },
  "language_info": {
   "file_extension": ".jl",
   "mimetype": "application/julia",
   "name": "julia",
   "version": "0.4.5"
  }
 },
 "nbformat": 4,
 "nbformat_minor": 0
}
